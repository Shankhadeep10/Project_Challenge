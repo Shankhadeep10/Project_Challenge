{
 "cells": [
  {
   "cell_type": "markdown",
   "id": "5f74c03c",
   "metadata": {},
   "source": [
    "# 1.Import required libraries and read the dataset."
   ]
  },
  {
   "cell_type": "code",
   "execution_count": 1,
   "id": "c3ae357e",
   "metadata": {},
   "outputs": [],
   "source": [
    "import numpy as np\n",
    "import pandas as pd"
   ]
  },
  {
   "cell_type": "markdown",
   "id": "68e7f872",
   "metadata": {},
   "source": [
    "# 2.Check the first few samples, shape, info of the data and try to familiarize yourself with different features."
   ]
  },
  {
   "cell_type": "code",
   "execution_count": 404,
   "id": "a817144a",
   "metadata": {},
   "outputs": [
    {
     "data": {
      "text/html": [
       "<div>\n",
       "<style scoped>\n",
       "    .dataframe tbody tr th:only-of-type {\n",
       "        vertical-align: middle;\n",
       "    }\n",
       "\n",
       "    .dataframe tbody tr th {\n",
       "        vertical-align: top;\n",
       "    }\n",
       "\n",
       "    .dataframe thead th {\n",
       "        text-align: right;\n",
       "    }\n",
       "</style>\n",
       "<table border=\"1\" class=\"dataframe\">\n",
       "  <thead>\n",
       "    <tr style=\"text-align: right;\">\n",
       "      <th></th>\n",
       "      <th>App</th>\n",
       "      <th>Category</th>\n",
       "      <th>Rating</th>\n",
       "      <th>Reviews</th>\n",
       "      <th>Size</th>\n",
       "      <th>Installs</th>\n",
       "      <th>Type</th>\n",
       "      <th>Price</th>\n",
       "      <th>Content Rating</th>\n",
       "      <th>Genres</th>\n",
       "      <th>Last Updated</th>\n",
       "      <th>Current Ver</th>\n",
       "      <th>Android Ver</th>\n",
       "    </tr>\n",
       "  </thead>\n",
       "  <tbody>\n",
       "    <tr>\n",
       "      <th>0</th>\n",
       "      <td>Photo Editor &amp; Candy Camera &amp; Grid &amp; ScrapBook</td>\n",
       "      <td>ART_AND_DESIGN</td>\n",
       "      <td>4.1</td>\n",
       "      <td>159</td>\n",
       "      <td>19M</td>\n",
       "      <td>10,000+</td>\n",
       "      <td>Free</td>\n",
       "      <td>0</td>\n",
       "      <td>Everyone</td>\n",
       "      <td>Art &amp; Design</td>\n",
       "      <td>January 7, 2018</td>\n",
       "      <td>1.0.0</td>\n",
       "      <td>4.0.3 and up</td>\n",
       "    </tr>\n",
       "    <tr>\n",
       "      <th>1</th>\n",
       "      <td>Coloring book moana</td>\n",
       "      <td>ART_AND_DESIGN</td>\n",
       "      <td>3.9</td>\n",
       "      <td>967</td>\n",
       "      <td>14M</td>\n",
       "      <td>500,000+</td>\n",
       "      <td>Free</td>\n",
       "      <td>0</td>\n",
       "      <td>Everyone</td>\n",
       "      <td>Art &amp; Design;Pretend Play</td>\n",
       "      <td>January 15, 2018</td>\n",
       "      <td>2.0.0</td>\n",
       "      <td>4.0.3 and up</td>\n",
       "    </tr>\n",
       "    <tr>\n",
       "      <th>2</th>\n",
       "      <td>U Launcher Lite – FREE Live Cool Themes, Hide ...</td>\n",
       "      <td>ART_AND_DESIGN</td>\n",
       "      <td>4.7</td>\n",
       "      <td>87510</td>\n",
       "      <td>8.7M</td>\n",
       "      <td>5,000,000+</td>\n",
       "      <td>Free</td>\n",
       "      <td>0</td>\n",
       "      <td>Everyone</td>\n",
       "      <td>Art &amp; Design</td>\n",
       "      <td>August 1, 2018</td>\n",
       "      <td>1.2.4</td>\n",
       "      <td>4.0.3 and up</td>\n",
       "    </tr>\n",
       "    <tr>\n",
       "      <th>3</th>\n",
       "      <td>Sketch - Draw &amp; Paint</td>\n",
       "      <td>ART_AND_DESIGN</td>\n",
       "      <td>4.5</td>\n",
       "      <td>215644</td>\n",
       "      <td>25M</td>\n",
       "      <td>50,000,000+</td>\n",
       "      <td>Free</td>\n",
       "      <td>0</td>\n",
       "      <td>Teen</td>\n",
       "      <td>Art &amp; Design</td>\n",
       "      <td>June 8, 2018</td>\n",
       "      <td>Varies with device</td>\n",
       "      <td>4.2 and up</td>\n",
       "    </tr>\n",
       "    <tr>\n",
       "      <th>4</th>\n",
       "      <td>Pixel Draw - Number Art Coloring Book</td>\n",
       "      <td>ART_AND_DESIGN</td>\n",
       "      <td>4.3</td>\n",
       "      <td>967</td>\n",
       "      <td>2.8M</td>\n",
       "      <td>100,000+</td>\n",
       "      <td>Free</td>\n",
       "      <td>0</td>\n",
       "      <td>Everyone</td>\n",
       "      <td>Art &amp; Design;Creativity</td>\n",
       "      <td>June 20, 2018</td>\n",
       "      <td>1.1</td>\n",
       "      <td>4.4 and up</td>\n",
       "    </tr>\n",
       "  </tbody>\n",
       "</table>\n",
       "</div>"
      ],
      "text/plain": [
       "                                                 App        Category  Rating  \\\n",
       "0     Photo Editor & Candy Camera & Grid & ScrapBook  ART_AND_DESIGN     4.1   \n",
       "1                                Coloring book moana  ART_AND_DESIGN     3.9   \n",
       "2  U Launcher Lite – FREE Live Cool Themes, Hide ...  ART_AND_DESIGN     4.7   \n",
       "3                              Sketch - Draw & Paint  ART_AND_DESIGN     4.5   \n",
       "4              Pixel Draw - Number Art Coloring Book  ART_AND_DESIGN     4.3   \n",
       "\n",
       "  Reviews  Size     Installs  Type Price Content Rating  \\\n",
       "0     159   19M      10,000+  Free     0       Everyone   \n",
       "1     967   14M     500,000+  Free     0       Everyone   \n",
       "2   87510  8.7M   5,000,000+  Free     0       Everyone   \n",
       "3  215644   25M  50,000,000+  Free     0           Teen   \n",
       "4     967  2.8M     100,000+  Free     0       Everyone   \n",
       "\n",
       "                      Genres      Last Updated         Current Ver  \\\n",
       "0               Art & Design   January 7, 2018               1.0.0   \n",
       "1  Art & Design;Pretend Play  January 15, 2018               2.0.0   \n",
       "2               Art & Design    August 1, 2018               1.2.4   \n",
       "3               Art & Design      June 8, 2018  Varies with device   \n",
       "4    Art & Design;Creativity     June 20, 2018                 1.1   \n",
       "\n",
       "    Android Ver  \n",
       "0  4.0.3 and up  \n",
       "1  4.0.3 and up  \n",
       "2  4.0.3 and up  \n",
       "3    4.2 and up  \n",
       "4    4.4 and up  "
      ]
     },
     "execution_count": 404,
     "metadata": {},
     "output_type": "execute_result"
    }
   ],
   "source": [
    "df=pd.read_csv(r\"C:\\Users\\shank\\Downloads\\Apps_data+(1) (4).csv\")\n",
    "df.head()"
   ]
  },
  {
   "cell_type": "code",
   "execution_count": 405,
   "id": "3f52c827",
   "metadata": {},
   "outputs": [
    {
     "data": {
      "text/plain": [
       "(10841, 13)"
      ]
     },
     "execution_count": 405,
     "metadata": {},
     "output_type": "execute_result"
    }
   ],
   "source": [
    "df.shape"
   ]
  },
  {
   "cell_type": "code",
   "execution_count": 406,
   "id": "bb83b5ee",
   "metadata": {},
   "outputs": [
    {
     "name": "stdout",
     "output_type": "stream",
     "text": [
      "<class 'pandas.core.frame.DataFrame'>\n",
      "RangeIndex: 10841 entries, 0 to 10840\n",
      "Data columns (total 13 columns):\n",
      " #   Column          Non-Null Count  Dtype  \n",
      "---  ------          --------------  -----  \n",
      " 0   App             10841 non-null  object \n",
      " 1   Category        10841 non-null  object \n",
      " 2   Rating          9367 non-null   float64\n",
      " 3   Reviews         10841 non-null  object \n",
      " 4   Size            10841 non-null  object \n",
      " 5   Installs        10841 non-null  object \n",
      " 6   Type            10840 non-null  object \n",
      " 7   Price           10841 non-null  object \n",
      " 8   Content Rating  10840 non-null  object \n",
      " 9   Genres          10841 non-null  object \n",
      " 10  Last Updated    10841 non-null  object \n",
      " 11  Current Ver     10833 non-null  object \n",
      " 12  Android Ver     10838 non-null  object \n",
      "dtypes: float64(1), object(12)\n",
      "memory usage: 1.1+ MB\n"
     ]
    }
   ],
   "source": [
    "df.info()"
   ]
  },
  {
   "cell_type": "markdown",
   "id": "4917d340",
   "metadata": {},
   "source": [
    "# 3.Check summary statistics of the dataset. List out the columns that need to be worked upon for model building."
   ]
  },
  {
   "cell_type": "code",
   "execution_count": 407,
   "id": "a7447538",
   "metadata": {},
   "outputs": [
    {
     "data": {
      "text/html": [
       "<div>\n",
       "<style scoped>\n",
       "    .dataframe tbody tr th:only-of-type {\n",
       "        vertical-align: middle;\n",
       "    }\n",
       "\n",
       "    .dataframe tbody tr th {\n",
       "        vertical-align: top;\n",
       "    }\n",
       "\n",
       "    .dataframe thead th {\n",
       "        text-align: right;\n",
       "    }\n",
       "</style>\n",
       "<table border=\"1\" class=\"dataframe\">\n",
       "  <thead>\n",
       "    <tr style=\"text-align: right;\">\n",
       "      <th></th>\n",
       "      <th>Rating</th>\n",
       "    </tr>\n",
       "  </thead>\n",
       "  <tbody>\n",
       "    <tr>\n",
       "      <th>count</th>\n",
       "      <td>9367.000000</td>\n",
       "    </tr>\n",
       "    <tr>\n",
       "      <th>mean</th>\n",
       "      <td>4.193338</td>\n",
       "    </tr>\n",
       "    <tr>\n",
       "      <th>std</th>\n",
       "      <td>0.537431</td>\n",
       "    </tr>\n",
       "    <tr>\n",
       "      <th>min</th>\n",
       "      <td>1.000000</td>\n",
       "    </tr>\n",
       "    <tr>\n",
       "      <th>25%</th>\n",
       "      <td>4.000000</td>\n",
       "    </tr>\n",
       "    <tr>\n",
       "      <th>50%</th>\n",
       "      <td>4.300000</td>\n",
       "    </tr>\n",
       "    <tr>\n",
       "      <th>75%</th>\n",
       "      <td>4.500000</td>\n",
       "    </tr>\n",
       "    <tr>\n",
       "      <th>max</th>\n",
       "      <td>19.000000</td>\n",
       "    </tr>\n",
       "  </tbody>\n",
       "</table>\n",
       "</div>"
      ],
      "text/plain": [
       "            Rating\n",
       "count  9367.000000\n",
       "mean      4.193338\n",
       "std       0.537431\n",
       "min       1.000000\n",
       "25%       4.000000\n",
       "50%       4.300000\n",
       "75%       4.500000\n",
       "max      19.000000"
      ]
     },
     "execution_count": 407,
     "metadata": {},
     "output_type": "execute_result"
    }
   ],
   "source": [
    "df.describe()"
   ]
  },
  {
   "cell_type": "markdown",
   "id": "5974eef9",
   "metadata": {},
   "source": [
    "# All the categorical data summary statistics."
   ]
  },
  {
   "cell_type": "code",
   "execution_count": 408,
   "id": "a7b95dc4",
   "metadata": {},
   "outputs": [
    {
     "data": {
      "text/html": [
       "<div>\n",
       "<style scoped>\n",
       "    .dataframe tbody tr th:only-of-type {\n",
       "        vertical-align: middle;\n",
       "    }\n",
       "\n",
       "    .dataframe tbody tr th {\n",
       "        vertical-align: top;\n",
       "    }\n",
       "\n",
       "    .dataframe thead th {\n",
       "        text-align: right;\n",
       "    }\n",
       "</style>\n",
       "<table border=\"1\" class=\"dataframe\">\n",
       "  <thead>\n",
       "    <tr style=\"text-align: right;\">\n",
       "      <th></th>\n",
       "      <th>App</th>\n",
       "      <th>Category</th>\n",
       "      <th>Reviews</th>\n",
       "      <th>Size</th>\n",
       "      <th>Installs</th>\n",
       "      <th>Type</th>\n",
       "      <th>Price</th>\n",
       "      <th>Content Rating</th>\n",
       "      <th>Genres</th>\n",
       "      <th>Last Updated</th>\n",
       "      <th>Current Ver</th>\n",
       "      <th>Android Ver</th>\n",
       "    </tr>\n",
       "  </thead>\n",
       "  <tbody>\n",
       "    <tr>\n",
       "      <th>count</th>\n",
       "      <td>10841</td>\n",
       "      <td>10841</td>\n",
       "      <td>10841</td>\n",
       "      <td>10841</td>\n",
       "      <td>10841</td>\n",
       "      <td>10840</td>\n",
       "      <td>10841</td>\n",
       "      <td>10840</td>\n",
       "      <td>10841</td>\n",
       "      <td>10841</td>\n",
       "      <td>10833</td>\n",
       "      <td>10838</td>\n",
       "    </tr>\n",
       "    <tr>\n",
       "      <th>unique</th>\n",
       "      <td>9660</td>\n",
       "      <td>34</td>\n",
       "      <td>6002</td>\n",
       "      <td>462</td>\n",
       "      <td>22</td>\n",
       "      <td>3</td>\n",
       "      <td>93</td>\n",
       "      <td>6</td>\n",
       "      <td>120</td>\n",
       "      <td>1378</td>\n",
       "      <td>2832</td>\n",
       "      <td>33</td>\n",
       "    </tr>\n",
       "    <tr>\n",
       "      <th>top</th>\n",
       "      <td>ROBLOX</td>\n",
       "      <td>FAMILY</td>\n",
       "      <td>0</td>\n",
       "      <td>Varies with device</td>\n",
       "      <td>1,000,000+</td>\n",
       "      <td>Free</td>\n",
       "      <td>0</td>\n",
       "      <td>Everyone</td>\n",
       "      <td>Tools</td>\n",
       "      <td>August 3, 2018</td>\n",
       "      <td>Varies with device</td>\n",
       "      <td>4.1 and up</td>\n",
       "    </tr>\n",
       "    <tr>\n",
       "      <th>freq</th>\n",
       "      <td>9</td>\n",
       "      <td>1972</td>\n",
       "      <td>596</td>\n",
       "      <td>1695</td>\n",
       "      <td>1579</td>\n",
       "      <td>10039</td>\n",
       "      <td>10040</td>\n",
       "      <td>8714</td>\n",
       "      <td>842</td>\n",
       "      <td>326</td>\n",
       "      <td>1459</td>\n",
       "      <td>2451</td>\n",
       "    </tr>\n",
       "  </tbody>\n",
       "</table>\n",
       "</div>"
      ],
      "text/plain": [
       "           App Category Reviews                Size    Installs   Type  Price  \\\n",
       "count    10841    10841   10841               10841       10841  10840  10841   \n",
       "unique    9660       34    6002                 462          22      3     93   \n",
       "top     ROBLOX   FAMILY       0  Varies with device  1,000,000+   Free      0   \n",
       "freq         9     1972     596                1695        1579  10039  10040   \n",
       "\n",
       "       Content Rating Genres    Last Updated         Current Ver Android Ver  \n",
       "count           10840  10841           10841               10833       10838  \n",
       "unique              6    120            1378                2832          33  \n",
       "top          Everyone  Tools  August 3, 2018  Varies with device  4.1 and up  \n",
       "freq             8714    842             326                1459        2451  "
      ]
     },
     "execution_count": 408,
     "metadata": {},
     "output_type": "execute_result"
    }
   ],
   "source": [
    "df.describe(include=\"object\")"
   ]
  },
  {
   "cell_type": "code",
   "execution_count": 409,
   "id": "d320da15",
   "metadata": {},
   "outputs": [
    {
     "name": "stdout",
     "output_type": "stream",
     "text": [
      "List out the columns that need to be worked upon for model building.\n",
      "1. Category\n",
      "2. Rating\n",
      "3. Reviews\n",
      "4. Size\n",
      "5. Installs\n",
      "6. Type\n"
     ]
    }
   ],
   "source": [
    "print('List out the columns that need to be worked upon for model building.')\n",
    "print('1. Category')\n",
    "print('2. Rating')\n",
    "print('3. Reviews')\n",
    "print('4. Size')\n",
    "print('5. Installs')\n",
    "print('6. Type')"
   ]
  },
  {
   "cell_type": "markdown",
   "id": "ccec039b",
   "metadata": {},
   "source": [
    "# 4.Check if there are any duplicate records in the dataset? if any drop them."
   ]
  },
  {
   "cell_type": "code",
   "execution_count": 410,
   "id": "d7f14760",
   "metadata": {},
   "outputs": [],
   "source": [
    "duplicates=df[df.duplicated()]"
   ]
  },
  {
   "cell_type": "code",
   "execution_count": 411,
   "id": "8ea590d0",
   "metadata": {},
   "outputs": [
    {
     "data": {
      "text/plain": [
       "(483, 13)"
      ]
     },
     "execution_count": 411,
     "metadata": {},
     "output_type": "execute_result"
    }
   ],
   "source": [
    "duplicates.shape"
   ]
  },
  {
   "cell_type": "code",
   "execution_count": 412,
   "id": "3dc4e59b",
   "metadata": {},
   "outputs": [],
   "source": [
    "df.drop_duplicates(inplace=True)"
   ]
  },
  {
   "cell_type": "code",
   "execution_count": 413,
   "id": "08b9ae65",
   "metadata": {},
   "outputs": [
    {
     "data": {
      "text/plain": [
       "(10358, 13)"
      ]
     },
     "execution_count": 413,
     "metadata": {},
     "output_type": "execute_result"
    }
   ],
   "source": [
    "df.shape"
   ]
  },
  {
   "cell_type": "markdown",
   "id": "24a79de9",
   "metadata": {},
   "source": [
    "# 5.Check the unique categories of the column 'Category', Is there any invalid category? If yes, drop them."
   ]
  },
  {
   "cell_type": "code",
   "execution_count": 414,
   "id": "a978edd3",
   "metadata": {},
   "outputs": [
    {
     "data": {
      "text/plain": [
       "array(['ART_AND_DESIGN', 'AUTO_AND_VEHICLES', 'BEAUTY',\n",
       "       'BOOKS_AND_REFERENCE', 'BUSINESS', 'COMICS', 'COMMUNICATION',\n",
       "       'DATING', 'EDUCATION', 'ENTERTAINMENT', 'EVENTS', 'FINANCE',\n",
       "       'FOOD_AND_DRINK', 'HEALTH_AND_FITNESS', 'HOUSE_AND_HOME',\n",
       "       'LIBRARIES_AND_DEMO', 'LIFESTYLE', 'GAME', 'FAMILY', 'MEDICAL',\n",
       "       'SOCIAL', 'SHOPPING', 'PHOTOGRAPHY', 'SPORTS', 'TRAVEL_AND_LOCAL',\n",
       "       'TOOLS', 'PERSONALIZATION', 'PRODUCTIVITY', 'PARENTING', 'WEATHER',\n",
       "       'VIDEO_PLAYERS', 'NEWS_AND_MAGAZINES', 'MAPS_AND_NAVIGATION',\n",
       "       '1.9'], dtype=object)"
      ]
     },
     "execution_count": 414,
     "metadata": {},
     "output_type": "execute_result"
    }
   ],
   "source": [
    "df[\"Category\"].unique()"
   ]
  },
  {
   "cell_type": "code",
   "execution_count": 415,
   "id": "0397cda7",
   "metadata": {},
   "outputs": [],
   "source": [
    "invalid=df[df[\"Category\"]==\"1.9\"].index"
   ]
  },
  {
   "cell_type": "code",
   "execution_count": 416,
   "id": "2003438b",
   "metadata": {},
   "outputs": [
    {
     "data": {
      "text/plain": [
       "Int64Index([10472], dtype='int64')"
      ]
     },
     "execution_count": 416,
     "metadata": {},
     "output_type": "execute_result"
    }
   ],
   "source": [
    "invalid"
   ]
  },
  {
   "cell_type": "code",
   "execution_count": 417,
   "id": "c73fcdc8",
   "metadata": {},
   "outputs": [],
   "source": [
    "df.drop(invalid,inplace=True)"
   ]
  },
  {
   "cell_type": "code",
   "execution_count": 418,
   "id": "98b5dd63",
   "metadata": {},
   "outputs": [
    {
     "data": {
      "text/plain": [
       "(10357, 13)"
      ]
     },
     "execution_count": 418,
     "metadata": {},
     "output_type": "execute_result"
    }
   ],
   "source": [
    "df.shape"
   ]
  },
  {
   "cell_type": "code",
   "execution_count": 419,
   "id": "3712c746",
   "metadata": {},
   "outputs": [
    {
     "data": {
      "text/plain": [
       "array(['ART_AND_DESIGN', 'AUTO_AND_VEHICLES', 'BEAUTY',\n",
       "       'BOOKS_AND_REFERENCE', 'BUSINESS', 'COMICS', 'COMMUNICATION',\n",
       "       'DATING', 'EDUCATION', 'ENTERTAINMENT', 'EVENTS', 'FINANCE',\n",
       "       'FOOD_AND_DRINK', 'HEALTH_AND_FITNESS', 'HOUSE_AND_HOME',\n",
       "       'LIBRARIES_AND_DEMO', 'LIFESTYLE', 'GAME', 'FAMILY', 'MEDICAL',\n",
       "       'SOCIAL', 'SHOPPING', 'PHOTOGRAPHY', 'SPORTS', 'TRAVEL_AND_LOCAL',\n",
       "       'TOOLS', 'PERSONALIZATION', 'PRODUCTIVITY', 'PARENTING', 'WEATHER',\n",
       "       'VIDEO_PLAYERS', 'NEWS_AND_MAGAZINES', 'MAPS_AND_NAVIGATION'],\n",
       "      dtype=object)"
      ]
     },
     "execution_count": 419,
     "metadata": {},
     "output_type": "execute_result"
    }
   ],
   "source": [
    "df['Category'].unique()"
   ]
  },
  {
   "cell_type": "markdown",
   "id": "be32247b",
   "metadata": {},
   "source": [
    "# 6.Check if there are missing values present in the column Rating, If any? drop them and and create a new column as 'Rating_category' by converting ratings to high and low categories(>3.5 is high rest low)"
   ]
  },
  {
   "cell_type": "code",
   "execution_count": 420,
   "id": "f9a713a4",
   "metadata": {},
   "outputs": [
    {
     "data": {
      "text/plain": [
       "1465"
      ]
     },
     "execution_count": 420,
     "metadata": {},
     "output_type": "execute_result"
    }
   ],
   "source": [
    "df[\"Rating\"].isna().sum()"
   ]
  },
  {
   "cell_type": "code",
   "execution_count": 421,
   "id": "2b6a20db",
   "metadata": {},
   "outputs": [],
   "source": [
    "nan_val=df[df['Rating'].isna()].index"
   ]
  },
  {
   "cell_type": "code",
   "execution_count": 422,
   "id": "dc4fdbb8",
   "metadata": {},
   "outputs": [
    {
     "data": {
      "text/plain": [
       "Int64Index([   23,   113,   123,   126,   129,   130,   134,   163,   180,\n",
       "              185,\n",
       "            ...\n",
       "            10816, 10818, 10821, 10822, 10823, 10824, 10825, 10831, 10835,\n",
       "            10838],\n",
       "           dtype='int64', length=1465)"
      ]
     },
     "execution_count": 422,
     "metadata": {},
     "output_type": "execute_result"
    }
   ],
   "source": [
    "nan_val"
   ]
  },
  {
   "cell_type": "code",
   "execution_count": 423,
   "id": "9215bd92",
   "metadata": {},
   "outputs": [],
   "source": [
    "df.drop(nan_val,inplace=True)"
   ]
  },
  {
   "cell_type": "code",
   "execution_count": 424,
   "id": "9f3318cb",
   "metadata": {},
   "outputs": [
    {
     "data": {
      "text/plain": [
       "(8892, 13)"
      ]
     },
     "execution_count": 424,
     "metadata": {},
     "output_type": "execute_result"
    }
   ],
   "source": [
    "df.shape"
   ]
  },
  {
   "cell_type": "code",
   "execution_count": 425,
   "id": "82d86aa7",
   "metadata": {},
   "outputs": [],
   "source": [
    "df['Rating_category']=df.Rating.apply(lambda x:\"high\" if x>3.5 else \"low\")"
   ]
  },
  {
   "cell_type": "code",
   "execution_count": 426,
   "id": "d4cf3912",
   "metadata": {},
   "outputs": [
    {
     "data": {
      "text/html": [
       "<div>\n",
       "<style scoped>\n",
       "    .dataframe tbody tr th:only-of-type {\n",
       "        vertical-align: middle;\n",
       "    }\n",
       "\n",
       "    .dataframe tbody tr th {\n",
       "        vertical-align: top;\n",
       "    }\n",
       "\n",
       "    .dataframe thead th {\n",
       "        text-align: right;\n",
       "    }\n",
       "</style>\n",
       "<table border=\"1\" class=\"dataframe\">\n",
       "  <thead>\n",
       "    <tr style=\"text-align: right;\">\n",
       "      <th></th>\n",
       "      <th>App</th>\n",
       "      <th>Category</th>\n",
       "      <th>Rating</th>\n",
       "      <th>Reviews</th>\n",
       "      <th>Size</th>\n",
       "      <th>Installs</th>\n",
       "      <th>Type</th>\n",
       "      <th>Price</th>\n",
       "      <th>Content Rating</th>\n",
       "      <th>Genres</th>\n",
       "      <th>Last Updated</th>\n",
       "      <th>Current Ver</th>\n",
       "      <th>Android Ver</th>\n",
       "      <th>Rating_category</th>\n",
       "    </tr>\n",
       "  </thead>\n",
       "  <tbody>\n",
       "    <tr>\n",
       "      <th>0</th>\n",
       "      <td>Photo Editor &amp; Candy Camera &amp; Grid &amp; ScrapBook</td>\n",
       "      <td>ART_AND_DESIGN</td>\n",
       "      <td>4.1</td>\n",
       "      <td>159</td>\n",
       "      <td>19M</td>\n",
       "      <td>10,000+</td>\n",
       "      <td>Free</td>\n",
       "      <td>0</td>\n",
       "      <td>Everyone</td>\n",
       "      <td>Art &amp; Design</td>\n",
       "      <td>January 7, 2018</td>\n",
       "      <td>1.0.0</td>\n",
       "      <td>4.0.3 and up</td>\n",
       "      <td>high</td>\n",
       "    </tr>\n",
       "    <tr>\n",
       "      <th>1</th>\n",
       "      <td>Coloring book moana</td>\n",
       "      <td>ART_AND_DESIGN</td>\n",
       "      <td>3.9</td>\n",
       "      <td>967</td>\n",
       "      <td>14M</td>\n",
       "      <td>500,000+</td>\n",
       "      <td>Free</td>\n",
       "      <td>0</td>\n",
       "      <td>Everyone</td>\n",
       "      <td>Art &amp; Design;Pretend Play</td>\n",
       "      <td>January 15, 2018</td>\n",
       "      <td>2.0.0</td>\n",
       "      <td>4.0.3 and up</td>\n",
       "      <td>high</td>\n",
       "    </tr>\n",
       "    <tr>\n",
       "      <th>2</th>\n",
       "      <td>U Launcher Lite – FREE Live Cool Themes, Hide ...</td>\n",
       "      <td>ART_AND_DESIGN</td>\n",
       "      <td>4.7</td>\n",
       "      <td>87510</td>\n",
       "      <td>8.7M</td>\n",
       "      <td>5,000,000+</td>\n",
       "      <td>Free</td>\n",
       "      <td>0</td>\n",
       "      <td>Everyone</td>\n",
       "      <td>Art &amp; Design</td>\n",
       "      <td>August 1, 2018</td>\n",
       "      <td>1.2.4</td>\n",
       "      <td>4.0.3 and up</td>\n",
       "      <td>high</td>\n",
       "    </tr>\n",
       "    <tr>\n",
       "      <th>3</th>\n",
       "      <td>Sketch - Draw &amp; Paint</td>\n",
       "      <td>ART_AND_DESIGN</td>\n",
       "      <td>4.5</td>\n",
       "      <td>215644</td>\n",
       "      <td>25M</td>\n",
       "      <td>50,000,000+</td>\n",
       "      <td>Free</td>\n",
       "      <td>0</td>\n",
       "      <td>Teen</td>\n",
       "      <td>Art &amp; Design</td>\n",
       "      <td>June 8, 2018</td>\n",
       "      <td>Varies with device</td>\n",
       "      <td>4.2 and up</td>\n",
       "      <td>high</td>\n",
       "    </tr>\n",
       "    <tr>\n",
       "      <th>4</th>\n",
       "      <td>Pixel Draw - Number Art Coloring Book</td>\n",
       "      <td>ART_AND_DESIGN</td>\n",
       "      <td>4.3</td>\n",
       "      <td>967</td>\n",
       "      <td>2.8M</td>\n",
       "      <td>100,000+</td>\n",
       "      <td>Free</td>\n",
       "      <td>0</td>\n",
       "      <td>Everyone</td>\n",
       "      <td>Art &amp; Design;Creativity</td>\n",
       "      <td>June 20, 2018</td>\n",
       "      <td>1.1</td>\n",
       "      <td>4.4 and up</td>\n",
       "      <td>high</td>\n",
       "    </tr>\n",
       "  </tbody>\n",
       "</table>\n",
       "</div>"
      ],
      "text/plain": [
       "                                                 App        Category  Rating  \\\n",
       "0     Photo Editor & Candy Camera & Grid & ScrapBook  ART_AND_DESIGN     4.1   \n",
       "1                                Coloring book moana  ART_AND_DESIGN     3.9   \n",
       "2  U Launcher Lite – FREE Live Cool Themes, Hide ...  ART_AND_DESIGN     4.7   \n",
       "3                              Sketch - Draw & Paint  ART_AND_DESIGN     4.5   \n",
       "4              Pixel Draw - Number Art Coloring Book  ART_AND_DESIGN     4.3   \n",
       "\n",
       "  Reviews  Size     Installs  Type Price Content Rating  \\\n",
       "0     159   19M      10,000+  Free     0       Everyone   \n",
       "1     967   14M     500,000+  Free     0       Everyone   \n",
       "2   87510  8.7M   5,000,000+  Free     0       Everyone   \n",
       "3  215644   25M  50,000,000+  Free     0           Teen   \n",
       "4     967  2.8M     100,000+  Free     0       Everyone   \n",
       "\n",
       "                      Genres      Last Updated         Current Ver  \\\n",
       "0               Art & Design   January 7, 2018               1.0.0   \n",
       "1  Art & Design;Pretend Play  January 15, 2018               2.0.0   \n",
       "2               Art & Design    August 1, 2018               1.2.4   \n",
       "3               Art & Design      June 8, 2018  Varies with device   \n",
       "4    Art & Design;Creativity     June 20, 2018                 1.1   \n",
       "\n",
       "    Android Ver Rating_category  \n",
       "0  4.0.3 and up            high  \n",
       "1  4.0.3 and up            high  \n",
       "2  4.0.3 and up            high  \n",
       "3    4.2 and up            high  \n",
       "4    4.4 and up            high  "
      ]
     },
     "execution_count": 426,
     "metadata": {},
     "output_type": "execute_result"
    }
   ],
   "source": [
    "df.head(5)"
   ]
  },
  {
   "cell_type": "markdown",
   "id": "6addf75f",
   "metadata": {},
   "source": [
    "# 7.Check the distribution of the newly created column 'Rating_category' and comment on the distribution."
   ]
  },
  {
   "cell_type": "code",
   "execution_count": 427,
   "id": "411a0225",
   "metadata": {},
   "outputs": [],
   "source": [
    "import seaborn as sns\n",
    "import matplotlib.pyplot as plt"
   ]
  },
  {
   "cell_type": "code",
   "execution_count": 428,
   "id": "70cf4caa",
   "metadata": {
    "scrolled": false
   },
   "outputs": [
    {
     "data": {
      "image/png": "[encoded data removed]",
      "text/plain": [
       "<Figure size 640x480 with 1 Axes>"
      ]
     },
     "metadata": {},
     "output_type": "display_data"
    }
   ],
   "source": [
    "plt.hist(df['Rating_category'],color=\"green\")\n",
    "plt.xlabel('Rating_category')\n",
    "plt.ylabel('freq distribution')\n",
    "plt.grid(axis='y',linestyle='--',color='black')\n",
    "plt.title('histogram of rating_category')\n",
    "plt.show()"
   ]
  },
  {
   "cell_type": "markdown",
   "id": "b0c8f705",
   "metadata": {},
   "source": [
    "In this hist plot rating_category column has maximum count of high rating and minimum count of rating.\n",
    "There are 8012 apps under the high rating category and 880 apps under the low rating category."
   ]
  },
  {
   "cell_type": "code",
   "execution_count": 429,
   "id": "58762a72",
   "metadata": {},
   "outputs": [
    {
     "data": {
      "text/plain": [
       "high    8012\n",
       "low      880\n",
       "Name: Rating_category, dtype: int64"
      ]
     },
     "execution_count": 429,
     "metadata": {},
     "output_type": "execute_result"
    }
   ],
   "source": [
    "df['Rating_category'].value_counts()"
   ]
  },
  {
   "cell_type": "markdown",
   "id": "19ebea93",
   "metadata": {},
   "source": [
    "# 8.Convert the column \"Reviews'' to numeric data type and check the presence of outliers in the column and handle the outliers using a transformation approach.(Hint: Use log transformation)"
   ]
  },
  {
   "cell_type": "code",
   "execution_count": 430,
   "id": "b8ef7363",
   "metadata": {},
   "outputs": [
    {
     "data": {
      "text/plain": [
       "Index(['App', 'Category', 'Rating', 'Reviews', 'Size', 'Installs', 'Type',\n",
       "       'Price', 'Content Rating', 'Genres', 'Last Updated', 'Current Ver',\n",
       "       'Android Ver', 'Rating_category'],\n",
       "      dtype='object')"
      ]
     },
     "execution_count": 430,
     "metadata": {},
     "output_type": "execute_result"
    }
   ],
   "source": [
    "df.columns"
   ]
  },
  {
   "cell_type": "code",
   "execution_count": 431,
   "id": "ef5d792c",
   "metadata": {},
   "outputs": [],
   "source": [
    "df['Reviews']=df['Reviews'].astype(int)"
   ]
  },
  {
   "cell_type": "code",
   "execution_count": 432,
   "id": "5367440c",
   "metadata": {},
   "outputs": [
    {
     "data": {
      "text/plain": [
       "dtype('int32')"
      ]
     },
     "execution_count": 432,
     "metadata": {},
     "output_type": "execute_result"
    }
   ],
   "source": [
    "df['Reviews'].dtypes"
   ]
  },
  {
   "cell_type": "code",
   "execution_count": 433,
   "id": "03a96e9c",
   "metadata": {},
   "outputs": [
    {
     "data": {
      "text/plain": [
       "<Axes: xlabel='Reviews'>"
      ]
     },
     "execution_count": 433,
     "metadata": {},
     "output_type": "execute_result"
    },
    {
     "data": {
      "image/png": "[encoded data removed]",
      "text/plain": [
       "<Figure size 640x480 with 1 Axes>"
      ]
     },
     "metadata": {},
     "output_type": "display_data"
    }
   ],
   "source": [
    "sns.boxplot(df,x=\"Reviews\")"
   ]
  },
  {
   "cell_type": "code",
   "execution_count": 434,
   "id": "44f58b42",
   "metadata": {},
   "outputs": [
    {
     "name": "stdout",
     "output_type": "stream",
     "text": [
      "71102.75\n"
     ]
    }
   ],
   "source": [
    "Q1=df['Reviews'].quantile(0.25)\n",
    "Q3=df['Reviews'].quantile(0.75)\n",
    "IQR=Q3-Q1\n",
    "print(IQR)"
   ]
  },
  {
   "cell_type": "code",
   "execution_count": 435,
   "id": "f28e93d3",
   "metadata": {},
   "outputs": [],
   "source": [
    "lower_bound=Q1-1.5*IQR\n",
    "upper_bound=Q3+1.5*IQR"
   ]
  },
  {
   "cell_type": "code",
   "execution_count": 436,
   "id": "801325e6",
   "metadata": {},
   "outputs": [],
   "source": [
    "outlier=df[(df['Reviews']<lower_bound) | (df['Reviews']>upper_bound)]"
   ]
  },
  {
   "cell_type": "code",
   "execution_count": 437,
   "id": "c4c534ac",
   "metadata": {},
   "outputs": [],
   "source": [
    "avg_val=df['Reviews'].mean()"
   ]
  },
  {
   "cell_type": "code",
   "execution_count": 438,
   "id": "fcad4297",
   "metadata": {},
   "outputs": [],
   "source": [
    "df.loc[outlier.index,\"Reviews\"]=avg_val"
   ]
  },
  {
   "cell_type": "code",
   "execution_count": 439,
   "id": "0d181ca3",
   "metadata": {},
   "outputs": [
    {
     "data": {
      "image/png": "[encoded data removed]",
      "text/plain": [
       "<Figure size 640x480 with 1 Axes>"
      ]
     },
     "metadata": {},
     "output_type": "display_data"
    }
   ],
   "source": [
    "plt.boxplot(df[\"Reviews\"])\n",
    "plt.show()"
   ]
  },
  {
   "cell_type": "markdown",
   "id": "a8029b95",
   "metadata": {},
   "source": [
    "# 9.The column 'Size' contains alphanumeric values, treat the non numeric data and convert the column into suitable data type. (hint: Replace M with 1 million and K with 1 thousand, and drop the entries where size='Varies with device')"
   ]
  },
  {
   "cell_type": "code",
   "execution_count": 440,
   "id": "6e16aded",
   "metadata": {},
   "outputs": [
    {
     "data": {
      "text/plain": [
       "0                       19M\n",
       "1                       14M\n",
       "2                      8.7M\n",
       "3                       25M\n",
       "4                      2.8M\n",
       "                ...        \n",
       "10834                  2.6M\n",
       "10836                   53M\n",
       "10837                  3.6M\n",
       "10839    Varies with device\n",
       "10840                   19M\n",
       "Name: Size, Length: 8892, dtype: object"
      ]
     },
     "execution_count": 440,
     "metadata": {},
     "output_type": "execute_result"
    }
   ],
   "source": [
    "df['Size']"
   ]
  },
  {
   "cell_type": "code",
   "execution_count": 441,
   "id": "079a957b",
   "metadata": {},
   "outputs": [],
   "source": [
    "# Replace M with 1 million and K with 1 thousand"
   ]
  },
  {
   "cell_type": "code",
   "execution_count": 442,
   "id": "4151d540",
   "metadata": {},
   "outputs": [],
   "source": [
    "df['Size']=df['Size'].str.replace('M','000000')"
   ]
  },
  {
   "cell_type": "code",
   "execution_count": 443,
   "id": "9e78a048",
   "metadata": {},
   "outputs": [],
   "source": [
    "df['Size']=df['Size'].str.replace('k','000')"
   ]
  },
  {
   "cell_type": "code",
   "execution_count": 444,
   "id": "d2745e8d",
   "metadata": {},
   "outputs": [],
   "source": [
    "# drop the entries where size='Varies with device')\n",
    "var=df[df['Size']=='Varies with device'].index"
   ]
  },
  {
   "cell_type": "code",
   "execution_count": 445,
   "id": "6b04e78e",
   "metadata": {},
   "outputs": [
    {
     "data": {
      "text/plain": [
       "Int64Index([   37,    42,    52,    67,    68,    73,    85,    88,    89,\n",
       "               92,\n",
       "            ...\n",
       "            10647, 10679, 10681, 10707, 10712, 10713, 10725, 10765, 10826,\n",
       "            10839],\n",
       "           dtype='int64', length=1468)"
      ]
     },
     "execution_count": 445,
     "metadata": {},
     "output_type": "execute_result"
    }
   ],
   "source": [
    "var"
   ]
  },
  {
   "cell_type": "code",
   "execution_count": 446,
   "id": "7510a61e",
   "metadata": {},
   "outputs": [],
   "source": [
    "df.drop(var,inplace=True)"
   ]
  },
  {
   "cell_type": "code",
   "execution_count": 447,
   "id": "683a444c",
   "metadata": {},
   "outputs": [
    {
     "data": {
      "text/plain": [
       "(7424, 14)"
      ]
     },
     "execution_count": 447,
     "metadata": {},
     "output_type": "execute_result"
    }
   ],
   "source": [
    "df.shape"
   ]
  },
  {
   "cell_type": "code",
   "execution_count": 448,
   "id": "95d82c4b",
   "metadata": {},
   "outputs": [],
   "source": [
    "# convert the column 'Size' into suitable data type\n",
    "df['Size']=df['Size'].astype('float')"
   ]
  },
  {
   "cell_type": "code",
   "execution_count": 449,
   "id": "35d261bc",
   "metadata": {},
   "outputs": [
    {
     "data": {
      "text/plain": [
       "dtype('float64')"
      ]
     },
     "execution_count": 449,
     "metadata": {},
     "output_type": "execute_result"
    }
   ],
   "source": [
    "df['Size'].dtypes"
   ]
  },
  {
   "cell_type": "markdown",
   "id": "9d06f2e9",
   "metadata": {},
   "source": [
    "# 10.Check the column 'Installs', treat the unwanted characters and convert the column into a suitable data type."
   ]
  },
  {
   "cell_type": "code",
   "execution_count": 450,
   "id": "989c7950",
   "metadata": {},
   "outputs": [
    {
     "data": {
      "text/plain": [
       "array(['10,000+', '500,000+', '5,000,000+', '50,000,000+', '100,000+',\n",
       "       '50,000+', '1,000,000+', '10,000,000+', '5,000+', '100,000,000+',\n",
       "       '1,000+', '500,000,000+', '100+', '500+', '10+', '1,000,000,000+',\n",
       "       '5+', '50+', '1+'], dtype=object)"
      ]
     },
     "execution_count": 450,
     "metadata": {},
     "output_type": "execute_result"
    }
   ],
   "source": [
    "df['Installs'].unique()"
   ]
  },
  {
   "cell_type": "code",
   "execution_count": 451,
   "id": "369580d1",
   "metadata": {},
   "outputs": [],
   "source": [
    "# Remove unwanted character from column 'Installs'\n",
    "df['Installs']=df['Installs'].str.replace(\",\",\"\")"
   ]
  },
  {
   "cell_type": "code",
   "execution_count": 452,
   "id": "9d561d95",
   "metadata": {},
   "outputs": [
    {
     "name": "stderr",
     "output_type": "stream",
     "text": [
      "C:\\Users\\shank\\AppData\\Local\\Temp\\ipykernel_16812\\389258223.py:1: FutureWarning: The default value of regex will change from True to False in a future version. In addition, single character regular expressions will *not* be treated as literal strings when regex=True.\n",
      "  df['Installs']=df['Installs'].str.replace(\"+\",\"\")\n"
     ]
    }
   ],
   "source": [
    "df['Installs']=df['Installs'].str.replace(\"+\",\"\")"
   ]
  },
  {
   "cell_type": "code",
   "execution_count": 453,
   "id": "cfa42599",
   "metadata": {},
   "outputs": [
    {
     "data": {
      "text/plain": [
       "array(['10000', '500000', '5000000', '50000000', '100000', '50000',\n",
       "       '1000000', '10000000', '5000', '100000000', '1000', '500000000',\n",
       "       '100', '500', '10', '1000000000', '5', '50', '1'], dtype=object)"
      ]
     },
     "execution_count": 453,
     "metadata": {},
     "output_type": "execute_result"
    }
   ],
   "source": [
    "df['Installs'].unique()"
   ]
  },
  {
   "cell_type": "code",
   "execution_count": 454,
   "id": "e81491e9",
   "metadata": {},
   "outputs": [],
   "source": [
    "# convert the column into a suitable data type.\n",
    "df['Installs']=df['Installs'].astype('int')"
   ]
  },
  {
   "cell_type": "code",
   "execution_count": 455,
   "id": "9152fd28",
   "metadata": {},
   "outputs": [
    {
     "data": {
      "text/plain": [
       "dtype('int32')"
      ]
     },
     "execution_count": 455,
     "metadata": {},
     "output_type": "execute_result"
    }
   ],
   "source": [
    "df['Installs'].dtypes"
   ]
  },
  {
   "cell_type": "markdown",
   "id": "da35bcc6",
   "metadata": {},
   "source": [
    "# 11.Check the column 'Price' , remove the unwanted characters and convert the column into a suitable data type."
   ]
  },
  {
   "cell_type": "code",
   "execution_count": 456,
   "id": "0115f730",
   "metadata": {},
   "outputs": [
    {
     "data": {
      "text/plain": [
       "array(['0', '$4.99', '$6.99', '$7.99', '$3.99', '$5.99', '$2.99', '$1.99',\n",
       "       '$9.99', '$0.99', '$9.00', '$5.49', '$10.00', '$24.99', '$11.99',\n",
       "       '$79.99', '$16.99', '$14.99', '$29.99', '$12.99', '$3.49',\n",
       "       '$10.99', '$7.49', '$1.50', '$19.99', '$15.99', '$33.99', '$39.99',\n",
       "       '$2.49', '$4.49', '$1.70', '$1.49', '$3.88', '$399.99', '$17.99',\n",
       "       '$400.00', '$3.02', '$1.76', '$4.84', '$4.77', '$1.61', '$1.59',\n",
       "       '$6.49', '$1.29', '$299.99', '$379.99', '$37.99', '$18.99',\n",
       "       '$389.99', '$8.49', '$1.75', '$14.00', '$2.00', '$3.08', '$2.59',\n",
       "       '$19.40', '$15.46', '$8.99', '$3.04', '$13.99', '$4.29', '$3.28',\n",
       "       '$4.60', '$1.00', '$2.90', '$1.97', '$2.56', '$1.20'], dtype=object)"
      ]
     },
     "execution_count": 456,
     "metadata": {},
     "output_type": "execute_result"
    }
   ],
   "source": [
    "df['Price'].unique()"
   ]
  },
  {
   "cell_type": "code",
   "execution_count": 457,
   "id": "06a89611",
   "metadata": {},
   "outputs": [
    {
     "name": "stderr",
     "output_type": "stream",
     "text": [
      "C:\\Users\\shank\\AppData\\Local\\Temp\\ipykernel_16812\\1676360116.py:2: FutureWarning: The default value of regex will change from True to False in a future version. In addition, single character regular expressions will *not* be treated as literal strings when regex=True.\n",
      "  df['Price']=df['Price'].str.replace(\"$\",\"\")\n"
     ]
    }
   ],
   "source": [
    "# column 'Price' , remove the unwanted characters.\n",
    "df['Price']=df['Price'].str.replace(\"$\",\"\")"
   ]
  },
  {
   "cell_type": "code",
   "execution_count": 458,
   "id": "341ee278",
   "metadata": {},
   "outputs": [
    {
     "data": {
      "text/plain": [
       "array(['0', '4.99', '6.99', '7.99', '3.99', '5.99', '2.99', '1.99',\n",
       "       '9.99', '0.99', '9.00', '5.49', '10.00', '24.99', '11.99', '79.99',\n",
       "       '16.99', '14.99', '29.99', '12.99', '3.49', '10.99', '7.49',\n",
       "       '1.50', '19.99', '15.99', '33.99', '39.99', '2.49', '4.49', '1.70',\n",
       "       '1.49', '3.88', '399.99', '17.99', '400.00', '3.02', '1.76',\n",
       "       '4.84', '4.77', '1.61', '1.59', '6.49', '1.29', '299.99', '379.99',\n",
       "       '37.99', '18.99', '389.99', '8.49', '1.75', '14.00', '2.00',\n",
       "       '3.08', '2.59', '19.40', '15.46', '8.99', '3.04', '13.99', '4.29',\n",
       "       '3.28', '4.60', '1.00', '2.90', '1.97', '2.56', '1.20'],\n",
       "      dtype=object)"
      ]
     },
     "execution_count": 458,
     "metadata": {},
     "output_type": "execute_result"
    }
   ],
   "source": [
    "df['Price'].unique()"
   ]
  },
  {
   "cell_type": "code",
   "execution_count": 459,
   "id": "568ebe19",
   "metadata": {},
   "outputs": [],
   "source": [
    "# convert the column 'Price' into a suitable data type.\n",
    "df['Price']=df['Price'].astype('float')"
   ]
  },
  {
   "cell_type": "code",
   "execution_count": 460,
   "id": "fb0434d3",
   "metadata": {},
   "outputs": [
    {
     "data": {
      "text/plain": [
       "dtype('float64')"
      ]
     },
     "execution_count": 460,
     "metadata": {},
     "output_type": "execute_result"
    }
   ],
   "source": [
    "df['Price'].dtypes"
   ]
  },
  {
   "cell_type": "markdown",
   "id": "b7813d0d",
   "metadata": {},
   "source": [
    "# 12.Drop the columns which you think redundant for the analysis.(suggestion: drop column 'rating', since we created a new feature from it (i.e. rating_category) and the columns 'App', 'Rating' ,'Genres','Last Updated','Current Ver','Android Ver' columns since which are redundant for our analysis)"
   ]
  },
  {
   "cell_type": "code",
   "execution_count": 462,
   "id": "7af8c869",
   "metadata": {},
   "outputs": [
    {
     "data": {
      "text/plain": [
       "Index(['App', 'Category', 'Rating', 'Reviews', 'Size', 'Installs', 'Type',\n",
       "       'Price', 'Content Rating', 'Genres', 'Last Updated', 'Current Ver',\n",
       "       'Android Ver', 'Rating_category'],\n",
       "      dtype='object')"
      ]
     },
     "execution_count": 462,
     "metadata": {},
     "output_type": "execute_result"
    }
   ],
   "source": [
    "df.columns"
   ]
  },
  {
   "cell_type": "code",
   "execution_count": 463,
   "id": "55d67bb2",
   "metadata": {},
   "outputs": [],
   "source": [
    "drop_col=df[['App','Rating','Genres','Last Updated','Current Ver','Android Ver']]"
   ]
  },
  {
   "cell_type": "code",
   "execution_count": 464,
   "id": "f7373bc6",
   "metadata": {},
   "outputs": [],
   "source": [
    "df.drop(drop_col,axis=1,inplace=True)"
   ]
  },
  {
   "cell_type": "code",
   "execution_count": 465,
   "id": "42bc71dc",
   "metadata": {},
   "outputs": [
    {
     "data": {
      "text/html": [
       "<div>\n",
       "<style scoped>\n",
       "    .dataframe tbody tr th:only-of-type {\n",
       "        vertical-align: middle;\n",
       "    }\n",
       "\n",
       "    .dataframe tbody tr th {\n",
       "        vertical-align: top;\n",
       "    }\n",
       "\n",
       "    .dataframe thead th {\n",
       "        text-align: right;\n",
       "    }\n",
       "</style>\n",
       "<table border=\"1\" class=\"dataframe\">\n",
       "  <thead>\n",
       "    <tr style=\"text-align: right;\">\n",
       "      <th></th>\n",
       "      <th>Category</th>\n",
       "      <th>Reviews</th>\n",
       "      <th>Size</th>\n",
       "      <th>Installs</th>\n",
       "      <th>Type</th>\n",
       "      <th>Price</th>\n",
       "      <th>Content Rating</th>\n",
       "      <th>Rating_category</th>\n",
       "    </tr>\n",
       "  </thead>\n",
       "  <tbody>\n",
       "    <tr>\n",
       "      <th>0</th>\n",
       "      <td>ART_AND_DESIGN</td>\n",
       "      <td>159.000000</td>\n",
       "      <td>19000000.0</td>\n",
       "      <td>10000</td>\n",
       "      <td>Free</td>\n",
       "      <td>0.0</td>\n",
       "      <td>Everyone</td>\n",
       "      <td>high</td>\n",
       "    </tr>\n",
       "    <tr>\n",
       "      <th>1</th>\n",
       "      <td>ART_AND_DESIGN</td>\n",
       "      <td>967.000000</td>\n",
       "      <td>14000000.0</td>\n",
       "      <td>500000</td>\n",
       "      <td>Free</td>\n",
       "      <td>0.0</td>\n",
       "      <td>Everyone</td>\n",
       "      <td>high</td>\n",
       "    </tr>\n",
       "    <tr>\n",
       "      <th>2</th>\n",
       "      <td>ART_AND_DESIGN</td>\n",
       "      <td>87510.000000</td>\n",
       "      <td>8.7</td>\n",
       "      <td>5000000</td>\n",
       "      <td>Free</td>\n",
       "      <td>0.0</td>\n",
       "      <td>Everyone</td>\n",
       "      <td>high</td>\n",
       "    </tr>\n",
       "    <tr>\n",
       "      <th>3</th>\n",
       "      <td>ART_AND_DESIGN</td>\n",
       "      <td>472776.367184</td>\n",
       "      <td>25000000.0</td>\n",
       "      <td>50000000</td>\n",
       "      <td>Free</td>\n",
       "      <td>0.0</td>\n",
       "      <td>Teen</td>\n",
       "      <td>high</td>\n",
       "    </tr>\n",
       "    <tr>\n",
       "      <th>4</th>\n",
       "      <td>ART_AND_DESIGN</td>\n",
       "      <td>967.000000</td>\n",
       "      <td>2.8</td>\n",
       "      <td>100000</td>\n",
       "      <td>Free</td>\n",
       "      <td>0.0</td>\n",
       "      <td>Everyone</td>\n",
       "      <td>high</td>\n",
       "    </tr>\n",
       "  </tbody>\n",
       "</table>\n",
       "</div>"
      ],
      "text/plain": [
       "         Category        Reviews        Size  Installs  Type  Price  \\\n",
       "0  ART_AND_DESIGN     159.000000  19000000.0     10000  Free    0.0   \n",
       "1  ART_AND_DESIGN     967.000000  14000000.0    500000  Free    0.0   \n",
       "2  ART_AND_DESIGN   87510.000000         8.7   5000000  Free    0.0   \n",
       "3  ART_AND_DESIGN  472776.367184  25000000.0  50000000  Free    0.0   \n",
       "4  ART_AND_DESIGN     967.000000         2.8    100000  Free    0.0   \n",
       "\n",
       "  Content Rating Rating_category  \n",
       "0       Everyone            high  \n",
       "1       Everyone            high  \n",
       "2       Everyone            high  \n",
       "3           Teen            high  \n",
       "4       Everyone            high  "
      ]
     },
     "execution_count": 465,
     "metadata": {},
     "output_type": "execute_result"
    }
   ],
   "source": [
    "df.head()"
   ]
  },
  {
   "cell_type": "markdown",
   "id": "9099e21c",
   "metadata": {},
   "source": [
    "# 13.Encode the categorical columns."
   ]
  },
  {
   "cell_type": "code",
   "execution_count": 347,
   "id": "4c6b4ec0",
   "metadata": {},
   "outputs": [
    {
     "data": {
      "text/plain": [
       "array(['Everyone', 'Teen', 'Everyone 10+', 'Mature 17+',\n",
       "       'Adults only 18+', 'Unrated'], dtype=object)"
      ]
     },
     "execution_count": 347,
     "metadata": {},
     "output_type": "execute_result"
    }
   ],
   "source": [
    "df['Content Rating'].unique()"
   ]
  },
  {
   "cell_type": "code",
   "execution_count": 351,
   "id": "ebb67def",
   "metadata": {},
   "outputs": [],
   "source": [
    "#OnhotEncode column \"Category\"\n",
    "df=pd.get_dummies(df,prefix=\"Cat\",columns=[\"Category\"])"
   ]
  },
  {
   "cell_type": "code",
   "execution_count": 353,
   "id": "6e9bfa50",
   "metadata": {},
   "outputs": [
    {
     "data": {
      "text/html": [
       "<div>\n",
       "<style scoped>\n",
       "    .dataframe tbody tr th:only-of-type {\n",
       "        vertical-align: middle;\n",
       "    }\n",
       "\n",
       "    .dataframe tbody tr th {\n",
       "        vertical-align: top;\n",
       "    }\n",
       "\n",
       "    .dataframe thead th {\n",
       "        text-align: right;\n",
       "    }\n",
       "</style>\n",
       "<table border=\"1\" class=\"dataframe\">\n",
       "  <thead>\n",
       "    <tr style=\"text-align: right;\">\n",
       "      <th></th>\n",
       "      <th>Reviews</th>\n",
       "      <th>Size</th>\n",
       "      <th>Installs</th>\n",
       "      <th>Type</th>\n",
       "      <th>Price</th>\n",
       "      <th>Content Rating</th>\n",
       "      <th>Rating_category</th>\n",
       "      <th>Cat_ART_AND_DESIGN</th>\n",
       "      <th>Cat_AUTO_AND_VEHICLES</th>\n",
       "      <th>Cat_BEAUTY</th>\n",
       "      <th>...</th>\n",
       "      <th>Cat_PERSONALIZATION</th>\n",
       "      <th>Cat_PHOTOGRAPHY</th>\n",
       "      <th>Cat_PRODUCTIVITY</th>\n",
       "      <th>Cat_SHOPPING</th>\n",
       "      <th>Cat_SOCIAL</th>\n",
       "      <th>Cat_SPORTS</th>\n",
       "      <th>Cat_TOOLS</th>\n",
       "      <th>Cat_TRAVEL_AND_LOCAL</th>\n",
       "      <th>Cat_VIDEO_PLAYERS</th>\n",
       "      <th>Cat_WEATHER</th>\n",
       "    </tr>\n",
       "  </thead>\n",
       "  <tbody>\n",
       "    <tr>\n",
       "      <th>0</th>\n",
       "      <td>159.0</td>\n",
       "      <td>19000000.0</td>\n",
       "      <td>10000</td>\n",
       "      <td>Free</td>\n",
       "      <td>0.0</td>\n",
       "      <td>Everyone</td>\n",
       "      <td>high</td>\n",
       "      <td>1</td>\n",
       "      <td>0</td>\n",
       "      <td>0</td>\n",
       "      <td>...</td>\n",
       "      <td>0</td>\n",
       "      <td>0</td>\n",
       "      <td>0</td>\n",
       "      <td>0</td>\n",
       "      <td>0</td>\n",
       "      <td>0</td>\n",
       "      <td>0</td>\n",
       "      <td>0</td>\n",
       "      <td>0</td>\n",
       "      <td>0</td>\n",
       "    </tr>\n",
       "    <tr>\n",
       "      <th>1</th>\n",
       "      <td>967.0</td>\n",
       "      <td>14000000.0</td>\n",
       "      <td>500000</td>\n",
       "      <td>Free</td>\n",
       "      <td>0.0</td>\n",
       "      <td>Everyone</td>\n",
       "      <td>high</td>\n",
       "      <td>1</td>\n",
       "      <td>0</td>\n",
       "      <td>0</td>\n",
       "      <td>...</td>\n",
       "      <td>0</td>\n",
       "      <td>0</td>\n",
       "      <td>0</td>\n",
       "      <td>0</td>\n",
       "      <td>0</td>\n",
       "      <td>0</td>\n",
       "      <td>0</td>\n",
       "      <td>0</td>\n",
       "      <td>0</td>\n",
       "      <td>0</td>\n",
       "    </tr>\n",
       "  </tbody>\n",
       "</table>\n",
       "<p>2 rows × 40 columns</p>\n",
       "</div>"
      ],
      "text/plain": [
       "   Reviews        Size  Installs  Type  Price Content Rating Rating_category  \\\n",
       "0    159.0  19000000.0     10000  Free    0.0       Everyone            high   \n",
       "1    967.0  14000000.0    500000  Free    0.0       Everyone            high   \n",
       "\n",
       "   Cat_ART_AND_DESIGN  Cat_AUTO_AND_VEHICLES  Cat_BEAUTY  ...  \\\n",
       "0                   1                      0           0  ...   \n",
       "1                   1                      0           0  ...   \n",
       "\n",
       "   Cat_PERSONALIZATION  Cat_PHOTOGRAPHY  Cat_PRODUCTIVITY  Cat_SHOPPING  \\\n",
       "0                    0                0                 0             0   \n",
       "1                    0                0                 0             0   \n",
       "\n",
       "   Cat_SOCIAL  Cat_SPORTS  Cat_TOOLS  Cat_TRAVEL_AND_LOCAL  Cat_VIDEO_PLAYERS  \\\n",
       "0           0           0          0                     0                  0   \n",
       "1           0           0          0                     0                  0   \n",
       "\n",
       "   Cat_WEATHER  \n",
       "0            0  \n",
       "1            0  \n",
       "\n",
       "[2 rows x 40 columns]"
      ]
     },
     "execution_count": 353,
     "metadata": {},
     "output_type": "execute_result"
    }
   ],
   "source": [
    "df.head(2)"
   ]
  },
  {
   "cell_type": "code",
   "execution_count": 356,
   "id": "424f8f79",
   "metadata": {},
   "outputs": [],
   "source": [
    "#LabelEncode column \"Type\"\n",
    "label=df.Type.unique()\n",
    "lab=list(range(1,len(label)+1))\n",
    "dict_map=dict(zip(label,lab))\n",
    "df['Type_col']=df.Type.map(dict_map)"
   ]
  },
  {
   "cell_type": "code",
   "execution_count": 357,
   "id": "853ad282",
   "metadata": {},
   "outputs": [],
   "source": [
    "df.drop('Type',axis=1,inplace=True)"
   ]
  },
  {
   "cell_type": "code",
   "execution_count": 358,
   "id": "e894c89f",
   "metadata": {},
   "outputs": [
    {
     "data": {
      "text/html": [
       "<div>\n",
       "<style scoped>\n",
       "    .dataframe tbody tr th:only-of-type {\n",
       "        vertical-align: middle;\n",
       "    }\n",
       "\n",
       "    .dataframe tbody tr th {\n",
       "        vertical-align: top;\n",
       "    }\n",
       "\n",
       "    .dataframe thead th {\n",
       "        text-align: right;\n",
       "    }\n",
       "</style>\n",
       "<table border=\"1\" class=\"dataframe\">\n",
       "  <thead>\n",
       "    <tr style=\"text-align: right;\">\n",
       "      <th></th>\n",
       "      <th>Reviews</th>\n",
       "      <th>Size</th>\n",
       "      <th>Installs</th>\n",
       "      <th>Price</th>\n",
       "      <th>Content Rating</th>\n",
       "      <th>Rating_category</th>\n",
       "      <th>Cat_ART_AND_DESIGN</th>\n",
       "      <th>Cat_AUTO_AND_VEHICLES</th>\n",
       "      <th>Cat_BEAUTY</th>\n",
       "      <th>Cat_BOOKS_AND_REFERENCE</th>\n",
       "      <th>...</th>\n",
       "      <th>Cat_PHOTOGRAPHY</th>\n",
       "      <th>Cat_PRODUCTIVITY</th>\n",
       "      <th>Cat_SHOPPING</th>\n",
       "      <th>Cat_SOCIAL</th>\n",
       "      <th>Cat_SPORTS</th>\n",
       "      <th>Cat_TOOLS</th>\n",
       "      <th>Cat_TRAVEL_AND_LOCAL</th>\n",
       "      <th>Cat_VIDEO_PLAYERS</th>\n",
       "      <th>Cat_WEATHER</th>\n",
       "      <th>Type_col</th>\n",
       "    </tr>\n",
       "  </thead>\n",
       "  <tbody>\n",
       "    <tr>\n",
       "      <th>0</th>\n",
       "      <td>159.0</td>\n",
       "      <td>19000000.0</td>\n",
       "      <td>10000</td>\n",
       "      <td>0.0</td>\n",
       "      <td>Everyone</td>\n",
       "      <td>high</td>\n",
       "      <td>1</td>\n",
       "      <td>0</td>\n",
       "      <td>0</td>\n",
       "      <td>0</td>\n",
       "      <td>...</td>\n",
       "      <td>0</td>\n",
       "      <td>0</td>\n",
       "      <td>0</td>\n",
       "      <td>0</td>\n",
       "      <td>0</td>\n",
       "      <td>0</td>\n",
       "      <td>0</td>\n",
       "      <td>0</td>\n",
       "      <td>0</td>\n",
       "      <td>1</td>\n",
       "    </tr>\n",
       "    <tr>\n",
       "      <th>1</th>\n",
       "      <td>967.0</td>\n",
       "      <td>14000000.0</td>\n",
       "      <td>500000</td>\n",
       "      <td>0.0</td>\n",
       "      <td>Everyone</td>\n",
       "      <td>high</td>\n",
       "      <td>1</td>\n",
       "      <td>0</td>\n",
       "      <td>0</td>\n",
       "      <td>0</td>\n",
       "      <td>...</td>\n",
       "      <td>0</td>\n",
       "      <td>0</td>\n",
       "      <td>0</td>\n",
       "      <td>0</td>\n",
       "      <td>0</td>\n",
       "      <td>0</td>\n",
       "      <td>0</td>\n",
       "      <td>0</td>\n",
       "      <td>0</td>\n",
       "      <td>1</td>\n",
       "    </tr>\n",
       "  </tbody>\n",
       "</table>\n",
       "<p>2 rows × 40 columns</p>\n",
       "</div>"
      ],
      "text/plain": [
       "   Reviews        Size  Installs  Price Content Rating Rating_category  \\\n",
       "0    159.0  19000000.0     10000    0.0       Everyone            high   \n",
       "1    967.0  14000000.0    500000    0.0       Everyone            high   \n",
       "\n",
       "   Cat_ART_AND_DESIGN  Cat_AUTO_AND_VEHICLES  Cat_BEAUTY  \\\n",
       "0                   1                      0           0   \n",
       "1                   1                      0           0   \n",
       "\n",
       "   Cat_BOOKS_AND_REFERENCE  ...  Cat_PHOTOGRAPHY  Cat_PRODUCTIVITY  \\\n",
       "0                        0  ...                0                 0   \n",
       "1                        0  ...                0                 0   \n",
       "\n",
       "   Cat_SHOPPING  Cat_SOCIAL  Cat_SPORTS  Cat_TOOLS  Cat_TRAVEL_AND_LOCAL  \\\n",
       "0             0           0           0          0                     0   \n",
       "1             0           0           0          0                     0   \n",
       "\n",
       "   Cat_VIDEO_PLAYERS  Cat_WEATHER  Type_col  \n",
       "0                  0            0         1  \n",
       "1                  0            0         1  \n",
       "\n",
       "[2 rows x 40 columns]"
      ]
     },
     "execution_count": 358,
     "metadata": {},
     "output_type": "execute_result"
    }
   ],
   "source": [
    "df.head(2)"
   ]
  },
  {
   "cell_type": "code",
   "execution_count": 359,
   "id": "a9fbf129",
   "metadata": {},
   "outputs": [
    {
     "data": {
      "text/plain": [
       "dtype('int64')"
      ]
     },
     "execution_count": 359,
     "metadata": {},
     "output_type": "execute_result"
    }
   ],
   "source": [
    "df['Type_col'].dtypes"
   ]
  },
  {
   "cell_type": "code",
   "execution_count": 360,
   "id": "999d9e6f",
   "metadata": {},
   "outputs": [
    {
     "data": {
      "text/plain": [
       "array(['Everyone', 'Teen', 'Everyone 10+', 'Mature 17+',\n",
       "       'Adults only 18+', 'Unrated'], dtype=object)"
      ]
     },
     "execution_count": 360,
     "metadata": {},
     "output_type": "execute_result"
    }
   ],
   "source": [
    "df['Content Rating'].unique()"
   ]
  },
  {
   "cell_type": "code",
   "execution_count": 361,
   "id": "017d3178",
   "metadata": {},
   "outputs": [],
   "source": [
    "#OnehotEncode column \"Content Rating\"\n",
    "df=pd.get_dummies(df,prefix=\"Cont_rat\",columns=['Content Rating'])  "
   ]
  },
  {
   "cell_type": "code",
   "execution_count": 362,
   "id": "a5900c5c",
   "metadata": {},
   "outputs": [
    {
     "data": {
      "text/html": [
       "<div>\n",
       "<style scoped>\n",
       "    .dataframe tbody tr th:only-of-type {\n",
       "        vertical-align: middle;\n",
       "    }\n",
       "\n",
       "    .dataframe tbody tr th {\n",
       "        vertical-align: top;\n",
       "    }\n",
       "\n",
       "    .dataframe thead th {\n",
       "        text-align: right;\n",
       "    }\n",
       "</style>\n",
       "<table border=\"1\" class=\"dataframe\">\n",
       "  <thead>\n",
       "    <tr style=\"text-align: right;\">\n",
       "      <th></th>\n",
       "      <th>Reviews</th>\n",
       "      <th>Size</th>\n",
       "      <th>Installs</th>\n",
       "      <th>Price</th>\n",
       "      <th>Rating_category</th>\n",
       "      <th>Cat_ART_AND_DESIGN</th>\n",
       "      <th>Cat_AUTO_AND_VEHICLES</th>\n",
       "      <th>Cat_BEAUTY</th>\n",
       "      <th>Cat_BOOKS_AND_REFERENCE</th>\n",
       "      <th>Cat_BUSINESS</th>\n",
       "      <th>...</th>\n",
       "      <th>Cat_TRAVEL_AND_LOCAL</th>\n",
       "      <th>Cat_VIDEO_PLAYERS</th>\n",
       "      <th>Cat_WEATHER</th>\n",
       "      <th>Type_col</th>\n",
       "      <th>Cont_rat_Adults only 18+</th>\n",
       "      <th>Cont_rat_Everyone</th>\n",
       "      <th>Cont_rat_Everyone 10+</th>\n",
       "      <th>Cont_rat_Mature 17+</th>\n",
       "      <th>Cont_rat_Teen</th>\n",
       "      <th>Cont_rat_Unrated</th>\n",
       "    </tr>\n",
       "  </thead>\n",
       "  <tbody>\n",
       "    <tr>\n",
       "      <th>0</th>\n",
       "      <td>159.0</td>\n",
       "      <td>19000000.0</td>\n",
       "      <td>10000</td>\n",
       "      <td>0.0</td>\n",
       "      <td>high</td>\n",
       "      <td>1</td>\n",
       "      <td>0</td>\n",
       "      <td>0</td>\n",
       "      <td>0</td>\n",
       "      <td>0</td>\n",
       "      <td>...</td>\n",
       "      <td>0</td>\n",
       "      <td>0</td>\n",
       "      <td>0</td>\n",
       "      <td>1</td>\n",
       "      <td>0</td>\n",
       "      <td>1</td>\n",
       "      <td>0</td>\n",
       "      <td>0</td>\n",
       "      <td>0</td>\n",
       "      <td>0</td>\n",
       "    </tr>\n",
       "    <tr>\n",
       "      <th>1</th>\n",
       "      <td>967.0</td>\n",
       "      <td>14000000.0</td>\n",
       "      <td>500000</td>\n",
       "      <td>0.0</td>\n",
       "      <td>high</td>\n",
       "      <td>1</td>\n",
       "      <td>0</td>\n",
       "      <td>0</td>\n",
       "      <td>0</td>\n",
       "      <td>0</td>\n",
       "      <td>...</td>\n",
       "      <td>0</td>\n",
       "      <td>0</td>\n",
       "      <td>0</td>\n",
       "      <td>1</td>\n",
       "      <td>0</td>\n",
       "      <td>1</td>\n",
       "      <td>0</td>\n",
       "      <td>0</td>\n",
       "      <td>0</td>\n",
       "      <td>0</td>\n",
       "    </tr>\n",
       "  </tbody>\n",
       "</table>\n",
       "<p>2 rows × 45 columns</p>\n",
       "</div>"
      ],
      "text/plain": [
       "   Reviews        Size  Installs  Price Rating_category  Cat_ART_AND_DESIGN  \\\n",
       "0    159.0  19000000.0     10000    0.0            high                   1   \n",
       "1    967.0  14000000.0    500000    0.0            high                   1   \n",
       "\n",
       "   Cat_AUTO_AND_VEHICLES  Cat_BEAUTY  Cat_BOOKS_AND_REFERENCE  Cat_BUSINESS  \\\n",
       "0                      0           0                        0             0   \n",
       "1                      0           0                        0             0   \n",
       "\n",
       "   ...  Cat_TRAVEL_AND_LOCAL  Cat_VIDEO_PLAYERS  Cat_WEATHER  Type_col  \\\n",
       "0  ...                     0                  0            0         1   \n",
       "1  ...                     0                  0            0         1   \n",
       "\n",
       "   Cont_rat_Adults only 18+  Cont_rat_Everyone  Cont_rat_Everyone 10+  \\\n",
       "0                         0                  1                      0   \n",
       "1                         0                  1                      0   \n",
       "\n",
       "   Cont_rat_Mature 17+  Cont_rat_Teen  Cont_rat_Unrated  \n",
       "0                    0              0                 0  \n",
       "1                    0              0                 0  \n",
       "\n",
       "[2 rows x 45 columns]"
      ]
     },
     "execution_count": 362,
     "metadata": {},
     "output_type": "execute_result"
    }
   ],
   "source": [
    "df.head(2)"
   ]
  },
  {
   "cell_type": "code",
   "execution_count": 364,
   "id": "fc703a05",
   "metadata": {},
   "outputs": [],
   "source": [
    "#LabelEncode column \"Ra\"\n",
    "la=df.Rating_category.unique()\n",
    "lb=list(range(1,len(la) +1))\n",
    "lc=dict(zip(la,lb))\n",
    "df['Rating_cat']=df.Rating_category.map(lc)"
   ]
  },
  {
   "cell_type": "code",
   "execution_count": 365,
   "id": "00211761",
   "metadata": {},
   "outputs": [],
   "source": [
    "df.drop(\"Rating_category\",axis=1,inplace=True)"
   ]
  },
  {
   "cell_type": "code",
   "execution_count": 366,
   "id": "80f1f5bc",
   "metadata": {},
   "outputs": [
    {
     "data": {
      "text/html": [
       "<div>\n",
       "<style scoped>\n",
       "    .dataframe tbody tr th:only-of-type {\n",
       "        vertical-align: middle;\n",
       "    }\n",
       "\n",
       "    .dataframe tbody tr th {\n",
       "        vertical-align: top;\n",
       "    }\n",
       "\n",
       "    .dataframe thead th {\n",
       "        text-align: right;\n",
       "    }\n",
       "</style>\n",
       "<table border=\"1\" class=\"dataframe\">\n",
       "  <thead>\n",
       "    <tr style=\"text-align: right;\">\n",
       "      <th></th>\n",
       "      <th>Reviews</th>\n",
       "      <th>Size</th>\n",
       "      <th>Installs</th>\n",
       "      <th>Price</th>\n",
       "      <th>Cat_ART_AND_DESIGN</th>\n",
       "      <th>Cat_AUTO_AND_VEHICLES</th>\n",
       "      <th>Cat_BEAUTY</th>\n",
       "      <th>Cat_BOOKS_AND_REFERENCE</th>\n",
       "      <th>Cat_BUSINESS</th>\n",
       "      <th>Cat_COMICS</th>\n",
       "      <th>...</th>\n",
       "      <th>Cat_VIDEO_PLAYERS</th>\n",
       "      <th>Cat_WEATHER</th>\n",
       "      <th>Type_col</th>\n",
       "      <th>Cont_rat_Adults only 18+</th>\n",
       "      <th>Cont_rat_Everyone</th>\n",
       "      <th>Cont_rat_Everyone 10+</th>\n",
       "      <th>Cont_rat_Mature 17+</th>\n",
       "      <th>Cont_rat_Teen</th>\n",
       "      <th>Cont_rat_Unrated</th>\n",
       "      <th>Rating_cat</th>\n",
       "    </tr>\n",
       "  </thead>\n",
       "  <tbody>\n",
       "    <tr>\n",
       "      <th>0</th>\n",
       "      <td>159.0</td>\n",
       "      <td>19000000.0</td>\n",
       "      <td>10000</td>\n",
       "      <td>0.0</td>\n",
       "      <td>1</td>\n",
       "      <td>0</td>\n",
       "      <td>0</td>\n",
       "      <td>0</td>\n",
       "      <td>0</td>\n",
       "      <td>0</td>\n",
       "      <td>...</td>\n",
       "      <td>0</td>\n",
       "      <td>0</td>\n",
       "      <td>1</td>\n",
       "      <td>0</td>\n",
       "      <td>1</td>\n",
       "      <td>0</td>\n",
       "      <td>0</td>\n",
       "      <td>0</td>\n",
       "      <td>0</td>\n",
       "      <td>1</td>\n",
       "    </tr>\n",
       "    <tr>\n",
       "      <th>1</th>\n",
       "      <td>967.0</td>\n",
       "      <td>14000000.0</td>\n",
       "      <td>500000</td>\n",
       "      <td>0.0</td>\n",
       "      <td>1</td>\n",
       "      <td>0</td>\n",
       "      <td>0</td>\n",
       "      <td>0</td>\n",
       "      <td>0</td>\n",
       "      <td>0</td>\n",
       "      <td>...</td>\n",
       "      <td>0</td>\n",
       "      <td>0</td>\n",
       "      <td>1</td>\n",
       "      <td>0</td>\n",
       "      <td>1</td>\n",
       "      <td>0</td>\n",
       "      <td>0</td>\n",
       "      <td>0</td>\n",
       "      <td>0</td>\n",
       "      <td>1</td>\n",
       "    </tr>\n",
       "  </tbody>\n",
       "</table>\n",
       "<p>2 rows × 45 columns</p>\n",
       "</div>"
      ],
      "text/plain": [
       "   Reviews        Size  Installs  Price  Cat_ART_AND_DESIGN  \\\n",
       "0    159.0  19000000.0     10000    0.0                   1   \n",
       "1    967.0  14000000.0    500000    0.0                   1   \n",
       "\n",
       "   Cat_AUTO_AND_VEHICLES  Cat_BEAUTY  Cat_BOOKS_AND_REFERENCE  Cat_BUSINESS  \\\n",
       "0                      0           0                        0             0   \n",
       "1                      0           0                        0             0   \n",
       "\n",
       "   Cat_COMICS  ...  Cat_VIDEO_PLAYERS  Cat_WEATHER  Type_col  \\\n",
       "0           0  ...                  0            0         1   \n",
       "1           0  ...                  0            0         1   \n",
       "\n",
       "   Cont_rat_Adults only 18+  Cont_rat_Everyone  Cont_rat_Everyone 10+  \\\n",
       "0                         0                  1                      0   \n",
       "1                         0                  1                      0   \n",
       "\n",
       "   Cont_rat_Mature 17+  Cont_rat_Teen  Cont_rat_Unrated  Rating_cat  \n",
       "0                    0              0                 0           1  \n",
       "1                    0              0                 0           1  \n",
       "\n",
       "[2 rows x 45 columns]"
      ]
     },
     "execution_count": 366,
     "metadata": {},
     "output_type": "execute_result"
    }
   ],
   "source": [
    "df.head(2)"
   ]
  },
  {
   "cell_type": "code",
   "execution_count": 367,
   "id": "a3c0ea52",
   "metadata": {},
   "outputs": [
    {
     "data": {
      "text/plain": [
       "dtype('int64')"
      ]
     },
     "execution_count": 367,
     "metadata": {},
     "output_type": "execute_result"
    }
   ],
   "source": [
    "df['Rating_cat'].dtypes"
   ]
  },
  {
   "cell_type": "markdown",
   "id": "6a3a59af",
   "metadata": {},
   "source": [
    "# 14.Segregate the target and independent features (Hint: Use Rating_category as the target)"
   ]
  },
  {
   "cell_type": "code",
   "execution_count": 368,
   "id": "ad13f443",
   "metadata": {},
   "outputs": [],
   "source": [
    "# x independent variables\n",
    "x=df.drop('Rating_cat',axis=1)\n",
    "\n",
    "# y dependent variable\n",
    "y=df[['Rating_cat']]"
   ]
  },
  {
   "cell_type": "code",
   "execution_count": 369,
   "id": "e1035952",
   "metadata": {},
   "outputs": [
    {
     "data": {
      "text/html": [
       "<div>\n",
       "<style scoped>\n",
       "    .dataframe tbody tr th:only-of-type {\n",
       "        vertical-align: middle;\n",
       "    }\n",
       "\n",
       "    .dataframe tbody tr th {\n",
       "        vertical-align: top;\n",
       "    }\n",
       "\n",
       "    .dataframe thead th {\n",
       "        text-align: right;\n",
       "    }\n",
       "</style>\n",
       "<table border=\"1\" class=\"dataframe\">\n",
       "  <thead>\n",
       "    <tr style=\"text-align: right;\">\n",
       "      <th></th>\n",
       "      <th>Reviews</th>\n",
       "      <th>Size</th>\n",
       "      <th>Installs</th>\n",
       "      <th>Price</th>\n",
       "      <th>Cat_ART_AND_DESIGN</th>\n",
       "      <th>Cat_AUTO_AND_VEHICLES</th>\n",
       "      <th>Cat_BEAUTY</th>\n",
       "      <th>Cat_BOOKS_AND_REFERENCE</th>\n",
       "      <th>Cat_BUSINESS</th>\n",
       "      <th>Cat_COMICS</th>\n",
       "      <th>...</th>\n",
       "      <th>Cat_TRAVEL_AND_LOCAL</th>\n",
       "      <th>Cat_VIDEO_PLAYERS</th>\n",
       "      <th>Cat_WEATHER</th>\n",
       "      <th>Type_col</th>\n",
       "      <th>Cont_rat_Adults only 18+</th>\n",
       "      <th>Cont_rat_Everyone</th>\n",
       "      <th>Cont_rat_Everyone 10+</th>\n",
       "      <th>Cont_rat_Mature 17+</th>\n",
       "      <th>Cont_rat_Teen</th>\n",
       "      <th>Cont_rat_Unrated</th>\n",
       "    </tr>\n",
       "  </thead>\n",
       "  <tbody>\n",
       "    <tr>\n",
       "      <th>0</th>\n",
       "      <td>159.000000</td>\n",
       "      <td>19000000.0</td>\n",
       "      <td>10000</td>\n",
       "      <td>0.0</td>\n",
       "      <td>1</td>\n",
       "      <td>0</td>\n",
       "      <td>0</td>\n",
       "      <td>0</td>\n",
       "      <td>0</td>\n",
       "      <td>0</td>\n",
       "      <td>...</td>\n",
       "      <td>0</td>\n",
       "      <td>0</td>\n",
       "      <td>0</td>\n",
       "      <td>1</td>\n",
       "      <td>0</td>\n",
       "      <td>1</td>\n",
       "      <td>0</td>\n",
       "      <td>0</td>\n",
       "      <td>0</td>\n",
       "      <td>0</td>\n",
       "    </tr>\n",
       "    <tr>\n",
       "      <th>1</th>\n",
       "      <td>967.000000</td>\n",
       "      <td>14000000.0</td>\n",
       "      <td>500000</td>\n",
       "      <td>0.0</td>\n",
       "      <td>1</td>\n",
       "      <td>0</td>\n",
       "      <td>0</td>\n",
       "      <td>0</td>\n",
       "      <td>0</td>\n",
       "      <td>0</td>\n",
       "      <td>...</td>\n",
       "      <td>0</td>\n",
       "      <td>0</td>\n",
       "      <td>0</td>\n",
       "      <td>1</td>\n",
       "      <td>0</td>\n",
       "      <td>1</td>\n",
       "      <td>0</td>\n",
       "      <td>0</td>\n",
       "      <td>0</td>\n",
       "      <td>0</td>\n",
       "    </tr>\n",
       "    <tr>\n",
       "      <th>2</th>\n",
       "      <td>87510.000000</td>\n",
       "      <td>8.7</td>\n",
       "      <td>5000000</td>\n",
       "      <td>0.0</td>\n",
       "      <td>1</td>\n",
       "      <td>0</td>\n",
       "      <td>0</td>\n",
       "      <td>0</td>\n",
       "      <td>0</td>\n",
       "      <td>0</td>\n",
       "      <td>...</td>\n",
       "      <td>0</td>\n",
       "      <td>0</td>\n",
       "      <td>0</td>\n",
       "      <td>1</td>\n",
       "      <td>0</td>\n",
       "      <td>1</td>\n",
       "      <td>0</td>\n",
       "      <td>0</td>\n",
       "      <td>0</td>\n",
       "      <td>0</td>\n",
       "    </tr>\n",
       "    <tr>\n",
       "      <th>3</th>\n",
       "      <td>472776.367184</td>\n",
       "      <td>25000000.0</td>\n",
       "      <td>50000000</td>\n",
       "      <td>0.0</td>\n",
       "      <td>1</td>\n",
       "      <td>0</td>\n",
       "      <td>0</td>\n",
       "      <td>0</td>\n",
       "      <td>0</td>\n",
       "      <td>0</td>\n",
       "      <td>...</td>\n",
       "      <td>0</td>\n",
       "      <td>0</td>\n",
       "      <td>0</td>\n",
       "      <td>1</td>\n",
       "      <td>0</td>\n",
       "      <td>0</td>\n",
       "      <td>0</td>\n",
       "      <td>0</td>\n",
       "      <td>1</td>\n",
       "      <td>0</td>\n",
       "    </tr>\n",
       "    <tr>\n",
       "      <th>4</th>\n",
       "      <td>967.000000</td>\n",
       "      <td>2.8</td>\n",
       "      <td>100000</td>\n",
       "      <td>0.0</td>\n",
       "      <td>1</td>\n",
       "      <td>0</td>\n",
       "      <td>0</td>\n",
       "      <td>0</td>\n",
       "      <td>0</td>\n",
       "      <td>0</td>\n",
       "      <td>...</td>\n",
       "      <td>0</td>\n",
       "      <td>0</td>\n",
       "      <td>0</td>\n",
       "      <td>1</td>\n",
       "      <td>0</td>\n",
       "      <td>1</td>\n",
       "      <td>0</td>\n",
       "      <td>0</td>\n",
       "      <td>0</td>\n",
       "      <td>0</td>\n",
       "    </tr>\n",
       "  </tbody>\n",
       "</table>\n",
       "<p>5 rows × 44 columns</p>\n",
       "</div>"
      ],
      "text/plain": [
       "         Reviews        Size  Installs  Price  Cat_ART_AND_DESIGN  \\\n",
       "0     159.000000  19000000.0     10000    0.0                   1   \n",
       "1     967.000000  14000000.0    500000    0.0                   1   \n",
       "2   87510.000000         8.7   5000000    0.0                   1   \n",
       "3  472776.367184  25000000.0  50000000    0.0                   1   \n",
       "4     967.000000         2.8    100000    0.0                   1   \n",
       "\n",
       "   Cat_AUTO_AND_VEHICLES  Cat_BEAUTY  Cat_BOOKS_AND_REFERENCE  Cat_BUSINESS  \\\n",
       "0                      0           0                        0             0   \n",
       "1                      0           0                        0             0   \n",
       "2                      0           0                        0             0   \n",
       "3                      0           0                        0             0   \n",
       "4                      0           0                        0             0   \n",
       "\n",
       "   Cat_COMICS  ...  Cat_TRAVEL_AND_LOCAL  Cat_VIDEO_PLAYERS  Cat_WEATHER  \\\n",
       "0           0  ...                     0                  0            0   \n",
       "1           0  ...                     0                  0            0   \n",
       "2           0  ...                     0                  0            0   \n",
       "3           0  ...                     0                  0            0   \n",
       "4           0  ...                     0                  0            0   \n",
       "\n",
       "   Type_col  Cont_rat_Adults only 18+  Cont_rat_Everyone  \\\n",
       "0         1                         0                  1   \n",
       "1         1                         0                  1   \n",
       "2         1                         0                  1   \n",
       "3         1                         0                  0   \n",
       "4         1                         0                  1   \n",
       "\n",
       "   Cont_rat_Everyone 10+  Cont_rat_Mature 17+  Cont_rat_Teen  Cont_rat_Unrated  \n",
       "0                      0                    0              0                 0  \n",
       "1                      0                    0              0                 0  \n",
       "2                      0                    0              0                 0  \n",
       "3                      0                    0              1                 0  \n",
       "4                      0                    0              0                 0  \n",
       "\n",
       "[5 rows x 44 columns]"
      ]
     },
     "execution_count": 369,
     "metadata": {},
     "output_type": "execute_result"
    }
   ],
   "source": [
    "x.head(5)"
   ]
  },
  {
   "cell_type": "code",
   "execution_count": 370,
   "id": "854bec69",
   "metadata": {},
   "outputs": [
    {
     "data": {
      "text/html": [
       "<div>\n",
       "<style scoped>\n",
       "    .dataframe tbody tr th:only-of-type {\n",
       "        vertical-align: middle;\n",
       "    }\n",
       "\n",
       "    .dataframe tbody tr th {\n",
       "        vertical-align: top;\n",
       "    }\n",
       "\n",
       "    .dataframe thead th {\n",
       "        text-align: right;\n",
       "    }\n",
       "</style>\n",
       "<table border=\"1\" class=\"dataframe\">\n",
       "  <thead>\n",
       "    <tr style=\"text-align: right;\">\n",
       "      <th></th>\n",
       "      <th>Rating_cat</th>\n",
       "    </tr>\n",
       "  </thead>\n",
       "  <tbody>\n",
       "    <tr>\n",
       "      <th>0</th>\n",
       "      <td>1</td>\n",
       "    </tr>\n",
       "    <tr>\n",
       "      <th>1</th>\n",
       "      <td>1</td>\n",
       "    </tr>\n",
       "    <tr>\n",
       "      <th>2</th>\n",
       "      <td>1</td>\n",
       "    </tr>\n",
       "    <tr>\n",
       "      <th>3</th>\n",
       "      <td>1</td>\n",
       "    </tr>\n",
       "    <tr>\n",
       "      <th>4</th>\n",
       "      <td>1</td>\n",
       "    </tr>\n",
       "  </tbody>\n",
       "</table>\n",
       "</div>"
      ],
      "text/plain": [
       "   Rating_cat\n",
       "0           1\n",
       "1           1\n",
       "2           1\n",
       "3           1\n",
       "4           1"
      ]
     },
     "execution_count": 370,
     "metadata": {},
     "output_type": "execute_result"
    }
   ],
   "source": [
    "y.head(5)"
   ]
  },
  {
   "cell_type": "markdown",
   "id": "8e18c7e1",
   "metadata": {},
   "source": [
    "# 15.Split the dataset into train and test."
   ]
  },
  {
   "cell_type": "code",
   "execution_count": 371,
   "id": "f20a5ea8",
   "metadata": {},
   "outputs": [],
   "source": [
    "from sklearn.model_selection import train_test_split"
   ]
  },
  {
   "cell_type": "code",
   "execution_count": 372,
   "id": "e0ae8706",
   "metadata": {},
   "outputs": [],
   "source": [
    "x_train,x_test,y_train,y_test=train_test_split(x,y,test_size=0.30,random_state=1)"
   ]
  },
  {
   "cell_type": "code",
   "execution_count": 373,
   "id": "53ce8229",
   "metadata": {},
   "outputs": [
    {
     "data": {
      "text/html": [
       "<div>\n",
       "<style scoped>\n",
       "    .dataframe tbody tr th:only-of-type {\n",
       "        vertical-align: middle;\n",
       "    }\n",
       "\n",
       "    .dataframe tbody tr th {\n",
       "        vertical-align: top;\n",
       "    }\n",
       "\n",
       "    .dataframe thead th {\n",
       "        text-align: right;\n",
       "    }\n",
       "</style>\n",
       "<table border=\"1\" class=\"dataframe\">\n",
       "  <thead>\n",
       "    <tr style=\"text-align: right;\">\n",
       "      <th></th>\n",
       "      <th>Reviews</th>\n",
       "      <th>Size</th>\n",
       "      <th>Installs</th>\n",
       "      <th>Price</th>\n",
       "      <th>Cat_ART_AND_DESIGN</th>\n",
       "      <th>Cat_AUTO_AND_VEHICLES</th>\n",
       "      <th>Cat_BEAUTY</th>\n",
       "      <th>Cat_BOOKS_AND_REFERENCE</th>\n",
       "      <th>Cat_BUSINESS</th>\n",
       "      <th>Cat_COMICS</th>\n",
       "      <th>...</th>\n",
       "      <th>Cat_TRAVEL_AND_LOCAL</th>\n",
       "      <th>Cat_VIDEO_PLAYERS</th>\n",
       "      <th>Cat_WEATHER</th>\n",
       "      <th>Type_col</th>\n",
       "      <th>Cont_rat_Adults only 18+</th>\n",
       "      <th>Cont_rat_Everyone</th>\n",
       "      <th>Cont_rat_Everyone 10+</th>\n",
       "      <th>Cont_rat_Mature 17+</th>\n",
       "      <th>Cont_rat_Teen</th>\n",
       "      <th>Cont_rat_Unrated</th>\n",
       "    </tr>\n",
       "  </thead>\n",
       "  <tbody>\n",
       "    <tr>\n",
       "      <th>8888</th>\n",
       "      <td>1.000000</td>\n",
       "      <td>2.9</td>\n",
       "      <td>100</td>\n",
       "      <td>0.00</td>\n",
       "      <td>1</td>\n",
       "      <td>0</td>\n",
       "      <td>0</td>\n",
       "      <td>0</td>\n",
       "      <td>0</td>\n",
       "      <td>0</td>\n",
       "      <td>...</td>\n",
       "      <td>0</td>\n",
       "      <td>0</td>\n",
       "      <td>0</td>\n",
       "      <td>1</td>\n",
       "      <td>0</td>\n",
       "      <td>1</td>\n",
       "      <td>0</td>\n",
       "      <td>0</td>\n",
       "      <td>0</td>\n",
       "      <td>0</td>\n",
       "    </tr>\n",
       "    <tr>\n",
       "      <th>1298</th>\n",
       "      <td>472776.367184</td>\n",
       "      <td>57000000.0</td>\n",
       "      <td>5000000</td>\n",
       "      <td>0.00</td>\n",
       "      <td>0</td>\n",
       "      <td>0</td>\n",
       "      <td>0</td>\n",
       "      <td>0</td>\n",
       "      <td>0</td>\n",
       "      <td>0</td>\n",
       "      <td>...</td>\n",
       "      <td>0</td>\n",
       "      <td>0</td>\n",
       "      <td>0</td>\n",
       "      <td>1</td>\n",
       "      <td>0</td>\n",
       "      <td>1</td>\n",
       "      <td>0</td>\n",
       "      <td>0</td>\n",
       "      <td>0</td>\n",
       "      <td>0</td>\n",
       "    </tr>\n",
       "    <tr>\n",
       "      <th>6599</th>\n",
       "      <td>309.000000</td>\n",
       "      <td>5.9</td>\n",
       "      <td>10000</td>\n",
       "      <td>0.00</td>\n",
       "      <td>0</td>\n",
       "      <td>0</td>\n",
       "      <td>0</td>\n",
       "      <td>0</td>\n",
       "      <td>0</td>\n",
       "      <td>0</td>\n",
       "      <td>...</td>\n",
       "      <td>0</td>\n",
       "      <td>0</td>\n",
       "      <td>0</td>\n",
       "      <td>1</td>\n",
       "      <td>0</td>\n",
       "      <td>1</td>\n",
       "      <td>0</td>\n",
       "      <td>0</td>\n",
       "      <td>0</td>\n",
       "      <td>0</td>\n",
       "    </tr>\n",
       "    <tr>\n",
       "      <th>7328</th>\n",
       "      <td>213.000000</td>\n",
       "      <td>6.1</td>\n",
       "      <td>5000</td>\n",
       "      <td>3.99</td>\n",
       "      <td>0</td>\n",
       "      <td>0</td>\n",
       "      <td>0</td>\n",
       "      <td>0</td>\n",
       "      <td>0</td>\n",
       "      <td>0</td>\n",
       "      <td>...</td>\n",
       "      <td>1</td>\n",
       "      <td>0</td>\n",
       "      <td>0</td>\n",
       "      <td>2</td>\n",
       "      <td>0</td>\n",
       "      <td>1</td>\n",
       "      <td>0</td>\n",
       "      <td>0</td>\n",
       "      <td>0</td>\n",
       "      <td>0</td>\n",
       "    </tr>\n",
       "    <tr>\n",
       "      <th>5681</th>\n",
       "      <td>57.000000</td>\n",
       "      <td>5.8</td>\n",
       "      <td>10000</td>\n",
       "      <td>0.00</td>\n",
       "      <td>0</td>\n",
       "      <td>0</td>\n",
       "      <td>0</td>\n",
       "      <td>0</td>\n",
       "      <td>0</td>\n",
       "      <td>0</td>\n",
       "      <td>...</td>\n",
       "      <td>0</td>\n",
       "      <td>0</td>\n",
       "      <td>0</td>\n",
       "      <td>1</td>\n",
       "      <td>0</td>\n",
       "      <td>1</td>\n",
       "      <td>0</td>\n",
       "      <td>0</td>\n",
       "      <td>0</td>\n",
       "      <td>0</td>\n",
       "    </tr>\n",
       "  </tbody>\n",
       "</table>\n",
       "<p>5 rows × 44 columns</p>\n",
       "</div>"
      ],
      "text/plain": [
       "            Reviews        Size  Installs  Price  Cat_ART_AND_DESIGN  \\\n",
       "8888       1.000000         2.9       100   0.00                   1   \n",
       "1298  472776.367184  57000000.0   5000000   0.00                   0   \n",
       "6599     309.000000         5.9     10000   0.00                   0   \n",
       "7328     213.000000         6.1      5000   3.99                   0   \n",
       "5681      57.000000         5.8     10000   0.00                   0   \n",
       "\n",
       "      Cat_AUTO_AND_VEHICLES  Cat_BEAUTY  Cat_BOOKS_AND_REFERENCE  \\\n",
       "8888                      0           0                        0   \n",
       "1298                      0           0                        0   \n",
       "6599                      0           0                        0   \n",
       "7328                      0           0                        0   \n",
       "5681                      0           0                        0   \n",
       "\n",
       "      Cat_BUSINESS  Cat_COMICS  ...  Cat_TRAVEL_AND_LOCAL  Cat_VIDEO_PLAYERS  \\\n",
       "8888             0           0  ...                     0                  0   \n",
       "1298             0           0  ...                     0                  0   \n",
       "6599             0           0  ...                     0                  0   \n",
       "7328             0           0  ...                     1                  0   \n",
       "5681             0           0  ...                     0                  0   \n",
       "\n",
       "      Cat_WEATHER  Type_col  Cont_rat_Adults only 18+  Cont_rat_Everyone  \\\n",
       "8888            0         1                         0                  1   \n",
       "1298            0         1                         0                  1   \n",
       "6599            0         1                         0                  1   \n",
       "7328            0         2                         0                  1   \n",
       "5681            0         1                         0                  1   \n",
       "\n",
       "      Cont_rat_Everyone 10+  Cont_rat_Mature 17+  Cont_rat_Teen  \\\n",
       "8888                      0                    0              0   \n",
       "1298                      0                    0              0   \n",
       "6599                      0                    0              0   \n",
       "7328                      0                    0              0   \n",
       "5681                      0                    0              0   \n",
       "\n",
       "      Cont_rat_Unrated  \n",
       "8888                 0  \n",
       "1298                 0  \n",
       "6599                 0  \n",
       "7328                 0  \n",
       "5681                 0  \n",
       "\n",
       "[5 rows x 44 columns]"
      ]
     },
     "execution_count": 373,
     "metadata": {},
     "output_type": "execute_result"
    }
   ],
   "source": [
    "x_train.head(5)"
   ]
  },
  {
   "cell_type": "code",
   "execution_count": 374,
   "id": "6c7f187f",
   "metadata": {},
   "outputs": [
    {
     "data": {
      "text/html": [
       "<div>\n",
       "<style scoped>\n",
       "    .dataframe tbody tr th:only-of-type {\n",
       "        vertical-align: middle;\n",
       "    }\n",
       "\n",
       "    .dataframe tbody tr th {\n",
       "        vertical-align: top;\n",
       "    }\n",
       "\n",
       "    .dataframe thead th {\n",
       "        text-align: right;\n",
       "    }\n",
       "</style>\n",
       "<table border=\"1\" class=\"dataframe\">\n",
       "  <thead>\n",
       "    <tr style=\"text-align: right;\">\n",
       "      <th></th>\n",
       "      <th>Reviews</th>\n",
       "      <th>Size</th>\n",
       "      <th>Installs</th>\n",
       "      <th>Price</th>\n",
       "      <th>Cat_ART_AND_DESIGN</th>\n",
       "      <th>Cat_AUTO_AND_VEHICLES</th>\n",
       "      <th>Cat_BEAUTY</th>\n",
       "      <th>Cat_BOOKS_AND_REFERENCE</th>\n",
       "      <th>Cat_BUSINESS</th>\n",
       "      <th>Cat_COMICS</th>\n",
       "      <th>...</th>\n",
       "      <th>Cat_TRAVEL_AND_LOCAL</th>\n",
       "      <th>Cat_VIDEO_PLAYERS</th>\n",
       "      <th>Cat_WEATHER</th>\n",
       "      <th>Type_col</th>\n",
       "      <th>Cont_rat_Adults only 18+</th>\n",
       "      <th>Cont_rat_Everyone</th>\n",
       "      <th>Cont_rat_Everyone 10+</th>\n",
       "      <th>Cont_rat_Mature 17+</th>\n",
       "      <th>Cont_rat_Teen</th>\n",
       "      <th>Cont_rat_Unrated</th>\n",
       "    </tr>\n",
       "  </thead>\n",
       "  <tbody>\n",
       "    <tr>\n",
       "      <th>5708</th>\n",
       "      <td>701.0</td>\n",
       "      <td>7.3</td>\n",
       "      <td>100000</td>\n",
       "      <td>0.00</td>\n",
       "      <td>0</td>\n",
       "      <td>0</td>\n",
       "      <td>0</td>\n",
       "      <td>0</td>\n",
       "      <td>0</td>\n",
       "      <td>0</td>\n",
       "      <td>...</td>\n",
       "      <td>0</td>\n",
       "      <td>0</td>\n",
       "      <td>0</td>\n",
       "      <td>1</td>\n",
       "      <td>0</td>\n",
       "      <td>1</td>\n",
       "      <td>0</td>\n",
       "      <td>0</td>\n",
       "      <td>0</td>\n",
       "      <td>0</td>\n",
       "    </tr>\n",
       "    <tr>\n",
       "      <th>7215</th>\n",
       "      <td>363.0</td>\n",
       "      <td>14000000.0</td>\n",
       "      <td>1000</td>\n",
       "      <td>2.99</td>\n",
       "      <td>0</td>\n",
       "      <td>0</td>\n",
       "      <td>0</td>\n",
       "      <td>0</td>\n",
       "      <td>0</td>\n",
       "      <td>0</td>\n",
       "      <td>...</td>\n",
       "      <td>0</td>\n",
       "      <td>0</td>\n",
       "      <td>0</td>\n",
       "      <td>2</td>\n",
       "      <td>0</td>\n",
       "      <td>0</td>\n",
       "      <td>1</td>\n",
       "      <td>0</td>\n",
       "      <td>0</td>\n",
       "      <td>0</td>\n",
       "    </tr>\n",
       "    <tr>\n",
       "      <th>1350</th>\n",
       "      <td>71269.0</td>\n",
       "      <td>49000000.0</td>\n",
       "      <td>1000000</td>\n",
       "      <td>0.00</td>\n",
       "      <td>0</td>\n",
       "      <td>0</td>\n",
       "      <td>0</td>\n",
       "      <td>0</td>\n",
       "      <td>0</td>\n",
       "      <td>0</td>\n",
       "      <td>...</td>\n",
       "      <td>0</td>\n",
       "      <td>0</td>\n",
       "      <td>0</td>\n",
       "      <td>1</td>\n",
       "      <td>0</td>\n",
       "      <td>1</td>\n",
       "      <td>0</td>\n",
       "      <td>0</td>\n",
       "      <td>0</td>\n",
       "      <td>0</td>\n",
       "    </tr>\n",
       "    <tr>\n",
       "      <th>5727</th>\n",
       "      <td>78629.0</td>\n",
       "      <td>6.3</td>\n",
       "      <td>1000000</td>\n",
       "      <td>0.00</td>\n",
       "      <td>0</td>\n",
       "      <td>0</td>\n",
       "      <td>0</td>\n",
       "      <td>0</td>\n",
       "      <td>0</td>\n",
       "      <td>0</td>\n",
       "      <td>...</td>\n",
       "      <td>0</td>\n",
       "      <td>0</td>\n",
       "      <td>0</td>\n",
       "      <td>1</td>\n",
       "      <td>0</td>\n",
       "      <td>1</td>\n",
       "      <td>0</td>\n",
       "      <td>0</td>\n",
       "      <td>0</td>\n",
       "      <td>0</td>\n",
       "    </tr>\n",
       "    <tr>\n",
       "      <th>5326</th>\n",
       "      <td>9952.0</td>\n",
       "      <td>3.7</td>\n",
       "      <td>100000</td>\n",
       "      <td>0.00</td>\n",
       "      <td>0</td>\n",
       "      <td>0</td>\n",
       "      <td>0</td>\n",
       "      <td>0</td>\n",
       "      <td>0</td>\n",
       "      <td>0</td>\n",
       "      <td>...</td>\n",
       "      <td>0</td>\n",
       "      <td>0</td>\n",
       "      <td>0</td>\n",
       "      <td>1</td>\n",
       "      <td>0</td>\n",
       "      <td>0</td>\n",
       "      <td>0</td>\n",
       "      <td>0</td>\n",
       "      <td>1</td>\n",
       "      <td>0</td>\n",
       "    </tr>\n",
       "  </tbody>\n",
       "</table>\n",
       "<p>5 rows × 44 columns</p>\n",
       "</div>"
      ],
      "text/plain": [
       "      Reviews        Size  Installs  Price  Cat_ART_AND_DESIGN  \\\n",
       "5708    701.0         7.3    100000   0.00                   0   \n",
       "7215    363.0  14000000.0      1000   2.99                   0   \n",
       "1350  71269.0  49000000.0   1000000   0.00                   0   \n",
       "5727  78629.0         6.3   1000000   0.00                   0   \n",
       "5326   9952.0         3.7    100000   0.00                   0   \n",
       "\n",
       "      Cat_AUTO_AND_VEHICLES  Cat_BEAUTY  Cat_BOOKS_AND_REFERENCE  \\\n",
       "5708                      0           0                        0   \n",
       "7215                      0           0                        0   \n",
       "1350                      0           0                        0   \n",
       "5727                      0           0                        0   \n",
       "5326                      0           0                        0   \n",
       "\n",
       "      Cat_BUSINESS  Cat_COMICS  ...  Cat_TRAVEL_AND_LOCAL  Cat_VIDEO_PLAYERS  \\\n",
       "5708             0           0  ...                     0                  0   \n",
       "7215             0           0  ...                     0                  0   \n",
       "1350             0           0  ...                     0                  0   \n",
       "5727             0           0  ...                     0                  0   \n",
       "5326             0           0  ...                     0                  0   \n",
       "\n",
       "      Cat_WEATHER  Type_col  Cont_rat_Adults only 18+  Cont_rat_Everyone  \\\n",
       "5708            0         1                         0                  1   \n",
       "7215            0         2                         0                  0   \n",
       "1350            0         1                         0                  1   \n",
       "5727            0         1                         0                  1   \n",
       "5326            0         1                         0                  0   \n",
       "\n",
       "      Cont_rat_Everyone 10+  Cont_rat_Mature 17+  Cont_rat_Teen  \\\n",
       "5708                      0                    0              0   \n",
       "7215                      1                    0              0   \n",
       "1350                      0                    0              0   \n",
       "5727                      0                    0              0   \n",
       "5326                      0                    0              1   \n",
       "\n",
       "      Cont_rat_Unrated  \n",
       "5708                 0  \n",
       "7215                 0  \n",
       "1350                 0  \n",
       "5727                 0  \n",
       "5326                 0  \n",
       "\n",
       "[5 rows x 44 columns]"
      ]
     },
     "execution_count": 374,
     "metadata": {},
     "output_type": "execute_result"
    }
   ],
   "source": [
    "x_test.head(5)"
   ]
  },
  {
   "cell_type": "code",
   "execution_count": 375,
   "id": "3830b353",
   "metadata": {},
   "outputs": [
    {
     "data": {
      "text/html": [
       "<div>\n",
       "<style scoped>\n",
       "    .dataframe tbody tr th:only-of-type {\n",
       "        vertical-align: middle;\n",
       "    }\n",
       "\n",
       "    .dataframe tbody tr th {\n",
       "        vertical-align: top;\n",
       "    }\n",
       "\n",
       "    .dataframe thead th {\n",
       "        text-align: right;\n",
       "    }\n",
       "</style>\n",
       "<table border=\"1\" class=\"dataframe\">\n",
       "  <thead>\n",
       "    <tr style=\"text-align: right;\">\n",
       "      <th></th>\n",
       "      <th>Rating_cat</th>\n",
       "    </tr>\n",
       "  </thead>\n",
       "  <tbody>\n",
       "    <tr>\n",
       "      <th>8888</th>\n",
       "      <td>1</td>\n",
       "    </tr>\n",
       "    <tr>\n",
       "      <th>1298</th>\n",
       "      <td>1</td>\n",
       "    </tr>\n",
       "    <tr>\n",
       "      <th>6599</th>\n",
       "      <td>1</td>\n",
       "    </tr>\n",
       "    <tr>\n",
       "      <th>7328</th>\n",
       "      <td>1</td>\n",
       "    </tr>\n",
       "    <tr>\n",
       "      <th>5681</th>\n",
       "      <td>1</td>\n",
       "    </tr>\n",
       "  </tbody>\n",
       "</table>\n",
       "</div>"
      ],
      "text/plain": [
       "      Rating_cat\n",
       "8888           1\n",
       "1298           1\n",
       "6599           1\n",
       "7328           1\n",
       "5681           1"
      ]
     },
     "execution_count": 375,
     "metadata": {},
     "output_type": "execute_result"
    }
   ],
   "source": [
    "y_train.head(5)"
   ]
  },
  {
   "cell_type": "code",
   "execution_count": 376,
   "id": "c73cbd00",
   "metadata": {},
   "outputs": [
    {
     "data": {
      "text/html": [
       "<div>\n",
       "<style scoped>\n",
       "    .dataframe tbody tr th:only-of-type {\n",
       "        vertical-align: middle;\n",
       "    }\n",
       "\n",
       "    .dataframe tbody tr th {\n",
       "        vertical-align: top;\n",
       "    }\n",
       "\n",
       "    .dataframe thead th {\n",
       "        text-align: right;\n",
       "    }\n",
       "</style>\n",
       "<table border=\"1\" class=\"dataframe\">\n",
       "  <thead>\n",
       "    <tr style=\"text-align: right;\">\n",
       "      <th></th>\n",
       "      <th>Rating_cat</th>\n",
       "    </tr>\n",
       "  </thead>\n",
       "  <tbody>\n",
       "    <tr>\n",
       "      <th>8888</th>\n",
       "      <td>1</td>\n",
       "    </tr>\n",
       "    <tr>\n",
       "      <th>1298</th>\n",
       "      <td>1</td>\n",
       "    </tr>\n",
       "    <tr>\n",
       "      <th>6599</th>\n",
       "      <td>1</td>\n",
       "    </tr>\n",
       "    <tr>\n",
       "      <th>7328</th>\n",
       "      <td>1</td>\n",
       "    </tr>\n",
       "    <tr>\n",
       "      <th>5681</th>\n",
       "      <td>1</td>\n",
       "    </tr>\n",
       "  </tbody>\n",
       "</table>\n",
       "</div>"
      ],
      "text/plain": [
       "      Rating_cat\n",
       "8888           1\n",
       "1298           1\n",
       "6599           1\n",
       "7328           1\n",
       "5681           1"
      ]
     },
     "execution_count": 376,
     "metadata": {},
     "output_type": "execute_result"
    }
   ],
   "source": [
    "y_train.head(5)"
   ]
  },
  {
   "cell_type": "markdown",
   "id": "44b56fa2",
   "metadata": {},
   "source": [
    "# 16.Standardize the data, so that the values are within a particular range."
   ]
  },
  {
   "cell_type": "code",
   "execution_count": 380,
   "id": "aa9fe0c7",
   "metadata": {},
   "outputs": [],
   "source": [
    "from sklearn.preprocessing import StandardScaler"
   ]
  },
  {
   "cell_type": "code",
   "execution_count": 391,
   "id": "12e92fe0",
   "metadata": {},
   "outputs": [],
   "source": [
    "stand_scl=StandardScaler()\n",
    "df=stand_scl.fit_transform(df)\n",
    "df=pd.DataFrame(df)"
   ]
  },
  {
   "cell_type": "code",
   "execution_count": 394,
   "id": "7268766b",
   "metadata": {},
   "outputs": [
    {
     "data": {
      "text/html": [
       "<div>\n",
       "<style scoped>\n",
       "    .dataframe tbody tr th:only-of-type {\n",
       "        vertical-align: middle;\n",
       "    }\n",
       "\n",
       "    .dataframe tbody tr th {\n",
       "        vertical-align: top;\n",
       "    }\n",
       "\n",
       "    .dataframe thead th {\n",
       "        text-align: right;\n",
       "    }\n",
       "</style>\n",
       "<table border=\"1\" class=\"dataframe\">\n",
       "  <thead>\n",
       "    <tr style=\"text-align: right;\">\n",
       "      <th></th>\n",
       "      <th>0</th>\n",
       "      <th>1</th>\n",
       "      <th>2</th>\n",
       "      <th>3</th>\n",
       "      <th>4</th>\n",
       "      <th>5</th>\n",
       "      <th>6</th>\n",
       "      <th>7</th>\n",
       "      <th>8</th>\n",
       "      <th>9</th>\n",
       "      <th>...</th>\n",
       "      <th>35</th>\n",
       "      <th>36</th>\n",
       "      <th>37</th>\n",
       "      <th>38</th>\n",
       "      <th>39</th>\n",
       "      <th>40</th>\n",
       "      <th>41</th>\n",
       "      <th>42</th>\n",
       "      <th>43</th>\n",
       "      <th>44</th>\n",
       "    </tr>\n",
       "  </thead>\n",
       "  <tbody>\n",
       "    <tr>\n",
       "      <th>0</th>\n",
       "      <td>-0.470787</td>\n",
       "      <td>-0.074223</td>\n",
       "      <td>-0.168764</td>\n",
       "      <td>-0.063058</td>\n",
       "      <td>11.172757</td>\n",
       "      <td>-0.092513</td>\n",
       "      <td>-0.070773</td>\n",
       "      <td>-0.140143</td>\n",
       "      <td>-0.176789</td>\n",
       "      <td>-0.081511</td>\n",
       "      <td>...</td>\n",
       "      <td>-0.125988</td>\n",
       "      <td>-0.083169</td>\n",
       "      <td>-0.282029</td>\n",
       "      <td>-0.016416</td>\n",
       "      <td>0.496040</td>\n",
       "      <td>-0.204853</td>\n",
       "      <td>-0.216364</td>\n",
       "      <td>-0.355266</td>\n",
       "      <td>-0.011607</td>\n",
       "      <td>-0.35358</td>\n",
       "    </tr>\n",
       "    <tr>\n",
       "      <th>1</th>\n",
       "      <td>-0.465493</td>\n",
       "      <td>-0.274991</td>\n",
       "      <td>-0.158181</td>\n",
       "      <td>-0.063058</td>\n",
       "      <td>11.172757</td>\n",
       "      <td>-0.092513</td>\n",
       "      <td>-0.070773</td>\n",
       "      <td>-0.140143</td>\n",
       "      <td>-0.176789</td>\n",
       "      <td>-0.081511</td>\n",
       "      <td>...</td>\n",
       "      <td>-0.125988</td>\n",
       "      <td>-0.083169</td>\n",
       "      <td>-0.282029</td>\n",
       "      <td>-0.016416</td>\n",
       "      <td>0.496040</td>\n",
       "      <td>-0.204853</td>\n",
       "      <td>-0.216364</td>\n",
       "      <td>-0.355266</td>\n",
       "      <td>-0.011607</td>\n",
       "      <td>-0.35358</td>\n",
       "    </tr>\n",
       "    <tr>\n",
       "      <th>2</th>\n",
       "      <td>0.101551</td>\n",
       "      <td>-0.837140</td>\n",
       "      <td>-0.060990</td>\n",
       "      <td>-0.063058</td>\n",
       "      <td>11.172757</td>\n",
       "      <td>-0.092513</td>\n",
       "      <td>-0.070773</td>\n",
       "      <td>-0.140143</td>\n",
       "      <td>-0.176789</td>\n",
       "      <td>-0.081511</td>\n",
       "      <td>...</td>\n",
       "      <td>-0.125988</td>\n",
       "      <td>-0.083169</td>\n",
       "      <td>-0.282029</td>\n",
       "      <td>-0.016416</td>\n",
       "      <td>0.496040</td>\n",
       "      <td>-0.204853</td>\n",
       "      <td>-0.216364</td>\n",
       "      <td>-0.355266</td>\n",
       "      <td>-0.011607</td>\n",
       "      <td>-0.35358</td>\n",
       "    </tr>\n",
       "    <tr>\n",
       "      <th>3</th>\n",
       "      <td>2.625877</td>\n",
       "      <td>0.166698</td>\n",
       "      <td>0.910911</td>\n",
       "      <td>-0.063058</td>\n",
       "      <td>11.172757</td>\n",
       "      <td>-0.092513</td>\n",
       "      <td>-0.070773</td>\n",
       "      <td>-0.140143</td>\n",
       "      <td>-0.176789</td>\n",
       "      <td>-0.081511</td>\n",
       "      <td>...</td>\n",
       "      <td>-0.125988</td>\n",
       "      <td>-0.083169</td>\n",
       "      <td>-0.282029</td>\n",
       "      <td>-0.016416</td>\n",
       "      <td>-2.015966</td>\n",
       "      <td>-0.204853</td>\n",
       "      <td>-0.216364</td>\n",
       "      <td>2.814796</td>\n",
       "      <td>-0.011607</td>\n",
       "      <td>-0.35358</td>\n",
       "    </tr>\n",
       "    <tr>\n",
       "      <th>4</th>\n",
       "      <td>-0.465493</td>\n",
       "      <td>-0.837140</td>\n",
       "      <td>-0.166820</td>\n",
       "      <td>-0.063058</td>\n",
       "      <td>11.172757</td>\n",
       "      <td>-0.092513</td>\n",
       "      <td>-0.070773</td>\n",
       "      <td>-0.140143</td>\n",
       "      <td>-0.176789</td>\n",
       "      <td>-0.081511</td>\n",
       "      <td>...</td>\n",
       "      <td>-0.125988</td>\n",
       "      <td>-0.083169</td>\n",
       "      <td>-0.282029</td>\n",
       "      <td>-0.016416</td>\n",
       "      <td>0.496040</td>\n",
       "      <td>-0.204853</td>\n",
       "      <td>-0.216364</td>\n",
       "      <td>-0.355266</td>\n",
       "      <td>-0.011607</td>\n",
       "      <td>-0.35358</td>\n",
       "    </tr>\n",
       "    <tr>\n",
       "      <th>...</th>\n",
       "      <td>...</td>\n",
       "      <td>...</td>\n",
       "      <td>...</td>\n",
       "      <td>...</td>\n",
       "      <td>...</td>\n",
       "      <td>...</td>\n",
       "      <td>...</td>\n",
       "      <td>...</td>\n",
       "      <td>...</td>\n",
       "      <td>...</td>\n",
       "      <td>...</td>\n",
       "      <td>...</td>\n",
       "      <td>...</td>\n",
       "      <td>...</td>\n",
       "      <td>...</td>\n",
       "      <td>...</td>\n",
       "      <td>...</td>\n",
       "      <td>...</td>\n",
       "      <td>...</td>\n",
       "      <td>...</td>\n",
       "      <td>...</td>\n",
       "    </tr>\n",
       "    <tr>\n",
       "      <th>7419</th>\n",
       "      <td>-0.471541</td>\n",
       "      <td>-0.812285</td>\n",
       "      <td>-0.168958</td>\n",
       "      <td>-0.063058</td>\n",
       "      <td>-0.089503</td>\n",
       "      <td>-0.092513</td>\n",
       "      <td>-0.070773</td>\n",
       "      <td>7.135551</td>\n",
       "      <td>-0.176789</td>\n",
       "      <td>-0.081511</td>\n",
       "      <td>...</td>\n",
       "      <td>-0.125988</td>\n",
       "      <td>-0.083169</td>\n",
       "      <td>-0.282029</td>\n",
       "      <td>-0.016416</td>\n",
       "      <td>0.496040</td>\n",
       "      <td>-0.204853</td>\n",
       "      <td>-0.216364</td>\n",
       "      <td>-0.355266</td>\n",
       "      <td>-0.011607</td>\n",
       "      <td>-0.35358</td>\n",
       "    </tr>\n",
       "    <tr>\n",
       "      <th>7420</th>\n",
       "      <td>-0.471783</td>\n",
       "      <td>-0.837140</td>\n",
       "      <td>-0.168969</td>\n",
       "      <td>-0.063058</td>\n",
       "      <td>-0.089503</td>\n",
       "      <td>-0.092513</td>\n",
       "      <td>-0.070773</td>\n",
       "      <td>-0.140143</td>\n",
       "      <td>-0.176789</td>\n",
       "      <td>-0.081511</td>\n",
       "      <td>...</td>\n",
       "      <td>-0.125988</td>\n",
       "      <td>-0.083169</td>\n",
       "      <td>-0.282029</td>\n",
       "      <td>-0.016416</td>\n",
       "      <td>0.496040</td>\n",
       "      <td>-0.204853</td>\n",
       "      <td>-0.216364</td>\n",
       "      <td>-0.355266</td>\n",
       "      <td>-0.011607</td>\n",
       "      <td>-0.35358</td>\n",
       "    </tr>\n",
       "    <tr>\n",
       "      <th>7421</th>\n",
       "      <td>-0.471580</td>\n",
       "      <td>1.290997</td>\n",
       "      <td>-0.168872</td>\n",
       "      <td>-0.063058</td>\n",
       "      <td>-0.089503</td>\n",
       "      <td>-0.092513</td>\n",
       "      <td>-0.070773</td>\n",
       "      <td>-0.140143</td>\n",
       "      <td>-0.176789</td>\n",
       "      <td>-0.081511</td>\n",
       "      <td>...</td>\n",
       "      <td>-0.125988</td>\n",
       "      <td>-0.083169</td>\n",
       "      <td>-0.282029</td>\n",
       "      <td>-0.016416</td>\n",
       "      <td>0.496040</td>\n",
       "      <td>-0.204853</td>\n",
       "      <td>-0.216364</td>\n",
       "      <td>-0.355266</td>\n",
       "      <td>-0.011607</td>\n",
       "      <td>-0.35358</td>\n",
       "    </tr>\n",
       "    <tr>\n",
       "      <th>7422</th>\n",
       "      <td>-0.471803</td>\n",
       "      <td>-0.837140</td>\n",
       "      <td>-0.168977</td>\n",
       "      <td>-0.063058</td>\n",
       "      <td>-0.089503</td>\n",
       "      <td>-0.092513</td>\n",
       "      <td>-0.070773</td>\n",
       "      <td>-0.140143</td>\n",
       "      <td>-0.176789</td>\n",
       "      <td>-0.081511</td>\n",
       "      <td>...</td>\n",
       "      <td>-0.125988</td>\n",
       "      <td>-0.083169</td>\n",
       "      <td>-0.282029</td>\n",
       "      <td>-0.016416</td>\n",
       "      <td>0.496040</td>\n",
       "      <td>-0.204853</td>\n",
       "      <td>-0.216364</td>\n",
       "      <td>-0.355266</td>\n",
       "      <td>-0.011607</td>\n",
       "      <td>-0.35358</td>\n",
       "    </tr>\n",
       "    <tr>\n",
       "      <th>7423</th>\n",
       "      <td>2.625877</td>\n",
       "      <td>-0.074223</td>\n",
       "      <td>0.046999</td>\n",
       "      <td>-0.063058</td>\n",
       "      <td>-0.089503</td>\n",
       "      <td>-0.092513</td>\n",
       "      <td>-0.070773</td>\n",
       "      <td>-0.140143</td>\n",
       "      <td>-0.176789</td>\n",
       "      <td>-0.081511</td>\n",
       "      <td>...</td>\n",
       "      <td>-0.125988</td>\n",
       "      <td>-0.083169</td>\n",
       "      <td>-0.282029</td>\n",
       "      <td>-0.016416</td>\n",
       "      <td>0.496040</td>\n",
       "      <td>-0.204853</td>\n",
       "      <td>-0.216364</td>\n",
       "      <td>-0.355266</td>\n",
       "      <td>-0.011607</td>\n",
       "      <td>-0.35358</td>\n",
       "    </tr>\n",
       "  </tbody>\n",
       "</table>\n",
       "<p>7424 rows × 45 columns</p>\n",
       "</div>"
      ],
      "text/plain": [
       "            0         1         2         3          4         5         6   \\\n",
       "0    -0.470787 -0.074223 -0.168764 -0.063058  11.172757 -0.092513 -0.070773   \n",
       "1    -0.465493 -0.274991 -0.158181 -0.063058  11.172757 -0.092513 -0.070773   \n",
       "2     0.101551 -0.837140 -0.060990 -0.063058  11.172757 -0.092513 -0.070773   \n",
       "3     2.625877  0.166698  0.910911 -0.063058  11.172757 -0.092513 -0.070773   \n",
       "4    -0.465493 -0.837140 -0.166820 -0.063058  11.172757 -0.092513 -0.070773   \n",
       "...        ...       ...       ...       ...        ...       ...       ...   \n",
       "7419 -0.471541 -0.812285 -0.168958 -0.063058  -0.089503 -0.092513 -0.070773   \n",
       "7420 -0.471783 -0.837140 -0.168969 -0.063058  -0.089503 -0.092513 -0.070773   \n",
       "7421 -0.471580  1.290997 -0.168872 -0.063058  -0.089503 -0.092513 -0.070773   \n",
       "7422 -0.471803 -0.837140 -0.168977 -0.063058  -0.089503 -0.092513 -0.070773   \n",
       "7423  2.625877 -0.074223  0.046999 -0.063058  -0.089503 -0.092513 -0.070773   \n",
       "\n",
       "            7         8         9   ...        35        36        37  \\\n",
       "0    -0.140143 -0.176789 -0.081511  ... -0.125988 -0.083169 -0.282029   \n",
       "1    -0.140143 -0.176789 -0.081511  ... -0.125988 -0.083169 -0.282029   \n",
       "2    -0.140143 -0.176789 -0.081511  ... -0.125988 -0.083169 -0.282029   \n",
       "3    -0.140143 -0.176789 -0.081511  ... -0.125988 -0.083169 -0.282029   \n",
       "4    -0.140143 -0.176789 -0.081511  ... -0.125988 -0.083169 -0.282029   \n",
       "...        ...       ...       ...  ...       ...       ...       ...   \n",
       "7419  7.135551 -0.176789 -0.081511  ... -0.125988 -0.083169 -0.282029   \n",
       "7420 -0.140143 -0.176789 -0.081511  ... -0.125988 -0.083169 -0.282029   \n",
       "7421 -0.140143 -0.176789 -0.081511  ... -0.125988 -0.083169 -0.282029   \n",
       "7422 -0.140143 -0.176789 -0.081511  ... -0.125988 -0.083169 -0.282029   \n",
       "7423 -0.140143 -0.176789 -0.081511  ... -0.125988 -0.083169 -0.282029   \n",
       "\n",
       "            38        39        40        41        42        43       44  \n",
       "0    -0.016416  0.496040 -0.204853 -0.216364 -0.355266 -0.011607 -0.35358  \n",
       "1    -0.016416  0.496040 -0.204853 -0.216364 -0.355266 -0.011607 -0.35358  \n",
       "2    -0.016416  0.496040 -0.204853 -0.216364 -0.355266 -0.011607 -0.35358  \n",
       "3    -0.016416 -2.015966 -0.204853 -0.216364  2.814796 -0.011607 -0.35358  \n",
       "4    -0.016416  0.496040 -0.204853 -0.216364 -0.355266 -0.011607 -0.35358  \n",
       "...        ...       ...       ...       ...       ...       ...      ...  \n",
       "7419 -0.016416  0.496040 -0.204853 -0.216364 -0.355266 -0.011607 -0.35358  \n",
       "7420 -0.016416  0.496040 -0.204853 -0.216364 -0.355266 -0.011607 -0.35358  \n",
       "7421 -0.016416  0.496040 -0.204853 -0.216364 -0.355266 -0.011607 -0.35358  \n",
       "7422 -0.016416  0.496040 -0.204853 -0.216364 -0.355266 -0.011607 -0.35358  \n",
       "7423 -0.016416  0.496040 -0.204853 -0.216364 -0.355266 -0.011607 -0.35358  \n",
       "\n",
       "[7424 rows x 45 columns]"
      ]
     },
     "execution_count": 394,
     "metadata": {},
     "output_type": "execute_result"
    }
   ],
   "source": [
    "df"
   ]
  },
  {
   "cell_type": "code",
   "execution_count": null,
   "id": "7acdbd2d",
   "metadata": {},
   "outputs": [],
   "source": []
  }
 ],
 "metadata": {
  "kernelspec": {
   "display_name": "Python 3 (ipykernel)",
   "language": "python",
   "name": "python3"
  },
  "language_info": {
   "codemirror_mode": {
    "name": "ipython",
    "version": 3
   },
   "file_extension": ".py",
   "mimetype": "text/x-python",
   "name": "python",
   "nbconvert_exporter": "python",
   "pygments_lexer": "ipython3",
   "version": "3.11.4"
  }
 },
 "nbformat": 4,
 "nbformat_minor": 5
}
